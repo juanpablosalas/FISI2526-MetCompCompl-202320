{
 "cells": [
  {
   "cell_type": "markdown",
   "metadata": {},
   "source": [
    "## Repaso Matrices - Taller 3\n",
    "\n",
    "Este taller debe ser entregado a más tardar el viernes 3 de noviembre a medianoche (11:59pm)."
   ]
  },
  {
   "cell_type": "markdown",
   "metadata": {},
   "source": [
    "1. **20 pts** Construya el algoritmo de multiplicación de matrices y encuentre el resultado de las siguientes operaciones.\n",
    "\n",
    "\n"
   ]
  },
  {
   "cell_type": "markdown",
   "metadata": {},
   "source": [
    "## Multiplicación de matrices"
   ]
  },
  {
   "cell_type": "code",
   "execution_count": 13,
   "metadata": {},
   "outputs": [],
   "source": [
    "import numpy as np\n",
    "def multiplicacion_matrices(A,B):\n",
    "    if len(A.shape)<len(B.shape):\n",
    "        return \"No se puede realizar la multiplicación, dimensión de A=({},{})\".format(len((A.shape)),len((A.shape)))\n",
    "    if len(B.shape)==1:\n",
    "        B=B.reshape(B.shape[0],1)\n",
    "    if  A.shape[1] !=B.shape[0]:\n",
    "        return \"No se puede realizar la multiplicación, número de columnas en A distinto al número de filas en B\" \n",
    "    p=B.shape[1]\n",
    "    m=A.shape[0]\n",
    "    G=np.zeros((m,p))\n",
    "    for i in range(m):\n",
    "        for j in range(p):\n",
    "            for k in range(B.shape[0]):\n",
    "                G[i,j]+=A[i,k]*B[k,j]\n",
    "    if B.shape[1]==1:\n",
    "        G=G.reshape(G.shape[0],)\n",
    "                \n",
    "    return G"
   ]
  },
  {
   "cell_type": "markdown",
   "metadata": {},
   "source": [
    "a.\n",
    "\n",
    " <img src ='./img/matrix1.png' width=200px>\n",
    " "
   ]
  },
  {
   "cell_type": "code",
   "execution_count": 14,
   "metadata": {
    "scrolled": true
   },
   "outputs": [
    {
     "data": {
      "text/plain": [
       "(array([[ 5, -4, -2],\n",
       "        [ 5, -5,  4],\n",
       "        [ 2,  5, -4],\n",
       "        [-5,  4,  3],\n",
       "        [ 3, -4, -3]]),\n",
       " array([ 5, -2, -3]))"
      ]
     },
     "execution_count": 14,
     "metadata": {},
     "output_type": "execute_result"
    }
   ],
   "source": [
    "A=np.array([[5,-4,-2],[5,-5,4],[2,5,-4],[-5,4,3],[3,-4,-3]])\n",
    "B=np.array([5,-2,-3])\n",
    "A,B"
   ]
  },
  {
   "cell_type": "code",
   "execution_count": 15,
   "metadata": {},
   "outputs": [
    {
     "data": {
      "text/plain": [
       "array([ 39.,  23.,  12., -42.,  32.])"
      ]
     },
     "execution_count": 15,
     "metadata": {},
     "output_type": "execute_result"
    }
   ],
   "source": [
    "multiplicacion_matrices(A,B)"
   ]
  },
  {
   "cell_type": "code",
   "execution_count": 17,
   "metadata": {},
   "outputs": [
    {
     "data": {
      "text/plain": [
       "array([ 39,  23,  12, -42,  32])"
      ]
     },
     "execution_count": 17,
     "metadata": {},
     "output_type": "execute_result"
    }
   ],
   "source": [
    "np.dot(A,B) #Confirmar"
   ]
  },
  {
   "cell_type": "markdown",
   "metadata": {},
   "source": [
    " b.\n",
    " \n",
    "  <img src ='./img/matrix2.png' width=200px>\n",
    "\n"
   ]
  },
  {
   "cell_type": "code",
   "execution_count": 20,
   "metadata": {
    "scrolled": true
   },
   "outputs": [
    {
     "data": {
      "text/plain": [
       "(array([[ 0,  1, -1,  3],\n",
       "        [ 5, -5, -2,  2],\n",
       "        [ 1,  0,  4,  5]]),\n",
       " array([[ 0, -3],\n",
       "        [-2, -1],\n",
       "        [ 3, -3]]))"
      ]
     },
     "execution_count": 20,
     "metadata": {},
     "output_type": "execute_result"
    }
   ],
   "source": [
    "A=np.array([[0,1,-1,3],[5,-5,-2,2],[1,0,4,5]])\n",
    "B=np.array([[0,-3],[-2,-1],[3,-3]])\n",
    "A,B"
   ]
  },
  {
   "cell_type": "code",
   "execution_count": 21,
   "metadata": {},
   "outputs": [
    {
     "data": {
      "text/plain": [
       "'No se puede realizar la multiplicación número de columnas en A distinto al número de filas en B'"
      ]
     },
     "execution_count": 21,
     "metadata": {},
     "output_type": "execute_result"
    }
   ],
   "source": [
    "multiplicacion_matrices(A,B)"
   ]
  },
  {
   "cell_type": "markdown",
   "metadata": {},
   "source": [
    "c. \n",
    "\n",
    "  <img src ='./img/matrix3.png' width=200px>\n",
    "\n",
    "  "
   ]
  },
  {
   "cell_type": "code",
   "execution_count": 23,
   "metadata": {
    "scrolled": true
   },
   "outputs": [
    {
     "data": {
      "text/plain": [
       "(array([[ 2, -5,  5,  1],\n",
       "        [ 5,  2, -7, -6],\n",
       "        [-6, -1,  7, -4],\n",
       "        [ 5,  4,  1, -5]]),\n",
       " array([[ 0,  4, -7,  1, -6],\n",
       "        [-1, -6, -5,  1,  1],\n",
       "        [ 2, -1, -6,  5, -5],\n",
       "        [-3, -6,  6,  3,  5]]))"
      ]
     },
     "execution_count": 23,
     "metadata": {},
     "output_type": "execute_result"
    }
   ],
   "source": [
    "A=np.array([[2,-5,5,1],[5,2,-7,-6],[-6,-1,7,-4],[5,4,1,-5]])\n",
    "B=np.array([[0,4,-7,1,-6],[-1,-6,-5,1,1],[2,-1,-6,5,-5],[-3,-6,6,3,5]])\n",
    "A,B"
   ]
  },
  {
   "cell_type": "code",
   "execution_count": 25,
   "metadata": {
    "scrolled": true
   },
   "outputs": [
    {
     "data": {
      "text/plain": [
       "array([[ 12.,  27., -13.,  25., -37.],\n",
       "       [  2.,  51., -39., -46., -23.],\n",
       "       [ 27.,  -1., -19.,  16., -20.],\n",
       "       [ 13.,  25., -91.,  -1., -56.]])"
      ]
     },
     "execution_count": 25,
     "metadata": {},
     "output_type": "execute_result"
    }
   ],
   "source": [
    "multiplicacion_matrices(A,B)"
   ]
  },
  {
   "cell_type": "code",
   "execution_count": 26,
   "metadata": {
    "scrolled": true
   },
   "outputs": [
    {
     "data": {
      "text/plain": [
       "array([[ 12,  27, -13,  25, -37],\n",
       "       [  2,  51, -39, -46, -23],\n",
       "       [ 27,  -1, -19,  16, -20],\n",
       "       [ 13,  25, -91,  -1, -56]])"
      ]
     },
     "execution_count": 26,
     "metadata": {},
     "output_type": "execute_result"
    }
   ],
   "source": [
    "np.dot(A,B) #Confirmar"
   ]
  },
  {
   "cell_type": "markdown",
   "metadata": {},
   "source": [
    " Utilizando el ejercicio anterior, demuestre que la multiplicación no es conmutativa **10 pts**."
   ]
  },
  {
   "cell_type": "markdown",
   "metadata": {},
   "source": [
    "## Conmutatividad"
   ]
  },
  {
   "cell_type": "markdown",
   "metadata": {},
   "source": [
    "a)"
   ]
  },
  {
   "cell_type": "code",
   "execution_count": 27,
   "metadata": {},
   "outputs": [
    {
     "data": {
      "text/plain": [
       "(array([[ 5, -4, -2],\n",
       "        [ 5, -5,  4],\n",
       "        [ 2,  5, -4],\n",
       "        [-5,  4,  3],\n",
       "        [ 3, -4, -3]]),\n",
       " array([ 5, -2, -3]))"
      ]
     },
     "execution_count": 27,
     "metadata": {},
     "output_type": "execute_result"
    }
   ],
   "source": [
    "A=np.array([[5,-4,-2],[5,-5,4],[2,5,-4],[-5,4,3],[3,-4,-3]])\n",
    "B=np.array([5,-2,-3])\n",
    "A,B"
   ]
  },
  {
   "cell_type": "code",
   "execution_count": 29,
   "metadata": {},
   "outputs": [
    {
     "data": {
      "text/plain": [
       "'No se puede realizar la multiplicación dimensión de A=(1,1)'"
      ]
     },
     "execution_count": 29,
     "metadata": {},
     "output_type": "execute_result"
    }
   ],
   "source": [
    "multiplicacion_matrices(B,A)"
   ]
  },
  {
   "cell_type": "markdown",
   "metadata": {},
   "source": [
    "b)"
   ]
  },
  {
   "cell_type": "code",
   "execution_count": 31,
   "metadata": {
    "scrolled": true
   },
   "outputs": [
    {
     "data": {
      "text/plain": [
       "(array([[ 0,  1, -1,  3],\n",
       "        [ 5, -5, -2,  2],\n",
       "        [ 1,  0,  4,  5]]),\n",
       " array([[ 0, -3],\n",
       "        [-2, -1],\n",
       "        [ 3, -3]]))"
      ]
     },
     "execution_count": 31,
     "metadata": {},
     "output_type": "execute_result"
    }
   ],
   "source": [
    "A=np.array([[0,1,-1,3],[5,-5,-2,2],[1,0,4,5]])\n",
    "B=np.array([[0,-3],[-2,-1],[3,-3]])\n",
    "A,B"
   ]
  },
  {
   "cell_type": "code",
   "execution_count": 33,
   "metadata": {
    "scrolled": true
   },
   "outputs": [
    {
     "data": {
      "text/plain": [
       "'No se puede realizar la multiplicación número de columnas en A distinto al número de filas en B'"
      ]
     },
     "execution_count": 33,
     "metadata": {},
     "output_type": "execute_result"
    }
   ],
   "source": [
    "multiplicacion_matrices(B,A)"
   ]
  },
  {
   "cell_type": "markdown",
   "metadata": {},
   "source": [
    "c)"
   ]
  },
  {
   "cell_type": "code",
   "execution_count": 35,
   "metadata": {},
   "outputs": [
    {
     "data": {
      "text/plain": [
       "(array([[ 2, -5,  5,  1],\n",
       "        [ 5,  2, -7, -6],\n",
       "        [-6, -1,  7, -4],\n",
       "        [ 5,  4,  1, -5]]),\n",
       " array([[ 0,  4, -7,  1, -6],\n",
       "        [-1, -6, -5,  1,  1],\n",
       "        [ 2, -1, -6,  5, -5],\n",
       "        [-3, -6,  6,  3,  5]]))"
      ]
     },
     "execution_count": 35,
     "metadata": {},
     "output_type": "execute_result"
    }
   ],
   "source": [
    "A=np.array([[2,-5,5,1],[5,2,-7,-6],[-6,-1,7,-4],[5,4,1,-5]])\n",
    "B=np.array([[0,4,-7,1,-6],[-1,-6,-5,1,1],[2,-1,-6,5,-5],[-3,-6,6,3,5]])\n",
    "A,B"
   ]
  },
  {
   "cell_type": "code",
   "execution_count": 37,
   "metadata": {},
   "outputs": [
    {
     "data": {
      "text/plain": [
       "'No se puede realizar la multiplicación número de columnas en A distinto al número de filas en B'"
      ]
     },
     "execution_count": 37,
     "metadata": {},
     "output_type": "execute_result"
    }
   ],
   "source": [
    "multiplicacion_matrices(B,A)"
   ]
  },
  {
   "cell_type": "markdown",
   "metadata": {},
   "source": [
    "2. **[40 pts]** Utilizando el algoritmo de reducción Gaussiana, resuelva los siguientes sistemas de ecuaciones:\n",
    "\n",
    "a.\n",
    "\n",
    " <img src ='./img/gaussian1.png' width=300px align=center>\n",
    "\n",
    " b.\n",
    "\n",
    " <img src ='./img/gaussian2.png' width=300px>"
   ]
  },
  {
   "cell_type": "markdown",
   "metadata": {},
   "source": [
    "3. **30 pts** Un sistema de tres osciladores acoplados, tiene las siguientes ecuaciones de movimiento:\n",
    "\n",
    "<img src='./img/eqmotion.png' width=200>\n",
    "\n",
    "Al reemplazar $x_1=c_1e^{i\\omega t},x_2=c_2e^{i\\omega t},x_3=c_3e^{i\\omega t}$ se obtienen las siguientes ecuaciones algebraicas\n",
    "\n",
    "<img src='./img/algeq.png'  width=200>\n",
    "\n",
    "Para encontrar las frecuencias, se puede pensar lo anterior como un problema de valor propio regido por la ecuación\n",
    "\n",
    "$M\\vec{v} = -\\omega^2 \\vec{v}$\n",
    "\n",
    "donde $\\vec{v}$ es el vector de amplitudes $c_1,c_2,c_3$ y $-\\omega^2$ los valores propios. Utilizando el método de la potencia, encuentre la frecuencia máxima y mínima de oscilación del sistema y sus amplitudes asociadas para cada caso (modo normal).\n",
    "\n",
    "\n"
   ]
  },
  {
   "cell_type": "markdown",
   "metadata": {},
   "source": [
    "## Reduccion Gaussiana"
   ]
  },
  {
   "cell_type": "code",
   "execution_count": null,
   "metadata": {},
   "outputs": [],
   "source": [
    "def gaussian_elimination(A,b):\n",
    "    return None"
   ]
  }
 ],
 "metadata": {
  "kernelspec": {
   "display_name": "Python 3",
   "language": "python",
   "name": "python3"
  },
  "language_info": {
   "codemirror_mode": {
    "name": "ipython",
    "version": 3
   },
   "file_extension": ".py",
   "mimetype": "text/x-python",
   "name": "python",
   "nbconvert_exporter": "python",
   "pygments_lexer": "ipython3",
   "version": "3.8.3"
  }
 },
 "nbformat": 4,
 "nbformat_minor": 2
}
