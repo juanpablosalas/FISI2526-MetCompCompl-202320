{
 "cells": [
  {
   "cell_type": "markdown",
   "metadata": {},
   "source": [
    "## Repaso Matrices - Taller 3\n",
    "\n",
    "Este taller debe ser entregado a más tardar el viernes 3 de noviembre a medianoche (11:59pm)."
   ]
  },
  {
   "cell_type": "markdown",
   "metadata": {},
   "source": [
    "### 1. Multiplicación de matrices\n",
    "\n",
    "**[20 pts]** Construya el algoritmo de multiplicación de matrices y encuentre el resultado de las siguientes operaciones."
   ]
  },
  {
   "cell_type": "code",
   "execution_count": 91,
   "metadata": {},
   "outputs": [],
   "source": [
    "import numpy as np\n",
    "def multiplicacion_matrices(A,B):\n",
    "    if len(A.shape)<len(B.shape):\n",
    "        return \"No se puede realizar la multiplicación, dimensión de A=({},{})\".format(len((A.shape)),len((A.shape)))\n",
    "    if len(B.shape)==1:\n",
    "        B=B.reshape(B.shape[0],1)\n",
    "    if  A.shape[1] !=B.shape[0]:\n",
    "        return \"No se puede realizar la multiplicación, número de columnas en A distinto al número de filas en B\" \n",
    "    p=B.shape[1]\n",
    "    m=A.shape[0]\n",
    "    G=np.zeros((m,p))\n",
    "    for i in range(m):\n",
    "        for j in range(p):\n",
    "            for k in range(B.shape[0]):\n",
    "                G[i,j]+=A[i,k]*B[k,j]\n",
    "    if B.shape[1]==1:\n",
    "        G=G.reshape(G.shape[0],)\n",
    "                \n",
    "    return G"
   ]
  },
  {
   "cell_type": "markdown",
   "metadata": {},
   "source": [
    "a.\n",
    "\n",
    " <img src ='./img/matrix1.png' width=200px>"
   ]
  },
  {
   "cell_type": "code",
   "execution_count": 92,
   "metadata": {},
   "outputs": [
    {
     "name": "stdout",
     "output_type": "stream",
     "text": [
      "[ 39  23  12 -42  32]\n"
     ]
    },
    {
     "data": {
      "text/plain": [
       "array([ 39.,  23.,  12., -42.,  32.])"
      ]
     },
     "execution_count": 92,
     "metadata": {},
     "output_type": "execute_result"
    }
   ],
   "source": [
    "####Inciso A####\n",
    "A=np.array([[5,-4,-2],[5,-5,4],[2,5,-4],[-5,4,3],[3,-4,-3]])\n",
    "B=np.array([5,-2,-3])\n",
    "print(np.dot(A,B)) #Confirmar\n",
    "multiplicacion_matrices(A,B)\n"
   ]
  },
  {
   "cell_type": "markdown",
   "metadata": {},
   "source": [
    " b.\n",
    " \n",
    "  <img src ='./img/matrix2.png' width=200px>"
   ]
  },
  {
   "cell_type": "code",
   "execution_count": 93,
   "metadata": {},
   "outputs": [
    {
     "data": {
      "text/plain": [
       "'No se puede realizar la multiplicación, número de columnas en A distinto al número de filas en B'"
      ]
     },
     "execution_count": 93,
     "metadata": {},
     "output_type": "execute_result"
    }
   ],
   "source": [
    "###Inciso B##\n",
    "A=np.array([[0,1,-1,3],[5,-5,-2,2],[1,0,4,5]])\n",
    "B=np.array([[0,-3],[-2,-1],[3,-3]])\n",
    "multiplicacion_matrices(A,B)\n"
   ]
  },
  {
   "cell_type": "markdown",
   "metadata": {},
   "source": [
    "    c. \n",
    "\n",
    "  <img src ='./img/matrix3.png' width=200px>"
   ]
  },
  {
   "cell_type": "code",
   "execution_count": 94,
   "metadata": {},
   "outputs": [
    {
     "data": {
      "text/plain": [
       "array([[ 12.,  27., -13.,  25., -37.],\n",
       "       [  2.,  51., -39., -46., -23.],\n",
       "       [ 27.,  -1., -19.,  16., -20.],\n",
       "       [ 13.,  25., -91.,  -1., -56.]])"
      ]
     },
     "execution_count": 94,
     "metadata": {},
     "output_type": "execute_result"
    }
   ],
   "source": [
    "####Inciso C####\n",
    "A=np.array([[2,-5,5,1],[5,2,-7,-6],[-6,-1,7,-4],[5,4,1,-5]])\n",
    "B=np.array([[0,4,-7,1,-6],[-1,-6,-5,1,1],[2,-1,-6,5,-5],[-3,-6,6,3,5]])\n",
    "multiplicacion_matrices(A,B)"
   ]
  },
  {
   "cell_type": "markdown",
   "metadata": {},
   "source": [
    "  **[10 pts]** Utilizando dos matrices cuadradas, demuestre que la multiplicación no es conmutativa.\n",
    "\n",
    "  Suponiendo las siguientes matrices:\n",
    "  \n",
    "\\begin{equation}\n",
    "\n",
    "  \\begin{bmatrix}\n",
    "  1 & 2\\\\\n",
    "  3 & 4  \n",
    "  \\end{bmatrix}\n",
    "  \n",
    "  \\begin{bmatrix}\n",
    "  5 & 6\\\\\n",
    "  7 & 8  \n",
    "  \\end{bmatrix}\n",
    "  \n",
    "\\end{equation}\n",
    "\n"
   ]
  },
  {
   "cell_type": "code",
   "execution_count": 100,
   "metadata": {},
   "outputs": [
    {
     "name": "stdout",
     "output_type": "stream",
     "text": [
      "[[1 2]\n",
      " [3 4]]\n",
      "[[5 6]\n",
      " [7 7]]\n",
      "[[19. 20.]\n",
      " [43. 46.]]\n"
     ]
    },
    {
     "data": {
      "text/plain": [
       "array([[False, False],\n",
       "       [False, False]])"
      ]
     },
     "execution_count": 100,
     "metadata": {},
     "output_type": "execute_result"
    }
   ],
   "source": [
    "M1 = np.array([[1,2],[3,4]])\n",
    "M2 = np.array([[5,6],[7,7]])\n",
    "\n",
    "print(M1)\n",
    "print(M2)\n",
    "\n",
    "print(multiplicacion_matrices(M1,M2)) == multiplicacion_matrices(M2,M1)\n",
    "#h"
   ]
  },
  {
   "cell_type": "markdown",
   "metadata": {},
   "source": [
    "### 2. Reducción gaussiana\n",
    "**[40 pts]** Utilizando el algoritmo de reducción Gaussiana, resuelva los siguientes sistemas de ecuaciones:"
   ]
  },
  {
   "cell_type": "code",
   "execution_count": 96,
   "metadata": {},
   "outputs": [],
   "source": [
    "def AugmentedMatrix(A,b): \n",
    "    result = np.zeros((np.shape(A)[0],np.shape(A)[1] +1))\n",
    "    result[:,np.shape(A)[1]] = b\n",
    "    result[:,:np.shape(A)[1]] = A\n",
    "    return result\n",
    "\n",
    "def GaussElimination(A,b):\n",
    "    AugM = AugmentedMatrix(A,b)\n",
    "    for j in range(np.shape(AugM)[1]-1):\n",
    "        i = 1+j\n",
    "        while i < np.shape(AugM)[0]:\n",
    "            if(AugM[i][j] != 0):\n",
    "                coef = AugM[i][j]/AugM[j][j]\n",
    "                AugM[i] = AugM[i] - coef*AugM[j]\n",
    "            i+=1\n",
    "    return AugM\n",
    "\n",
    "def SolveLinearSystem(A,b):\n",
    "    result = np.zeros(np.shape(A)[1])\n",
    "    GaussM = GaussElimination(A,b)\n",
    "    for  h in range(1,np.shape(GaussM)[0]+1):\n",
    "        i =-1 * h\n",
    "        j = -2\n",
    "        b_i = GaussM[i][-1]\n",
    "        while j>=i-1:\n",
    "            if j == i-1:\n",
    "                result[j+1] = b_i/GaussM[i][j]\n",
    "            else:\n",
    "                b_i -= GaussM[i][j]*result[j+1]\n",
    "            j-=1 \n",
    "    return result"
   ]
  },
  {
   "cell_type": "markdown",
   "metadata": {},
   "source": [
    "a.\n",
    "\n",
    " <img src ='./img/gaussian1.png' width=300px align=center>\n"
   ]
  },
  {
   "cell_type": "code",
   "execution_count": 97,
   "metadata": {},
   "outputs": [
    {
     "data": {
      "text/plain": [
       "array([0.71428571, 0.85714286, 1.        ])"
      ]
     },
     "execution_count": 97,
     "metadata": {},
     "output_type": "execute_result"
    }
   ],
   "source": [
    "F = np.array([[3,1,-1],[1,-2,1],[4,-1,1]])\n",
    "b = np.array([[2,0,3]])\n",
    "\n",
    "SolveLinearSystem(F,b)"
   ]
  },
  {
   "cell_type": "markdown",
   "metadata": {},
   "source": [
    " b.\n",
    "\n",
    " <img src ='./img/gaussian2.png' width=300px>"
   ]
  },
  {
   "cell_type": "code",
   "execution_count": 98,
   "metadata": {},
   "outputs": [
    {
     "data": {
      "text/plain": [
       "array([ 0.71052632, -0.39473684, -0.31578947])"
      ]
     },
     "execution_count": 98,
     "metadata": {},
     "output_type": "execute_result"
    }
   ],
   "source": [
    "F = np.array([[1,1,1],[0,-8,10],[4,-8,0]])\n",
    "b = np.array([[0,0,6]])\n",
    "\n",
    "SolveLinearSystem(F,b)"
   ]
  },
  {
   "cell_type": "markdown",
   "metadata": {},
   "source": [
    "### 3. Valores y vectores propios\n",
    "\n",
    "**[30 pts]** Un sistema de tres osciladores acoplados, tiene las siguientes ecuaciones de movimiento:\n",
    "\n",
    "<img src='./img/eqmotion.png' width=200>\n",
    "\n",
    "Al reemplazar $x_1=c_1e^{i\\omega t},x_2=c_2e^{i\\omega t},x_3=c_3e^{i\\omega t}$ se obtienen las siguientes ecuaciones algebraicas\n",
    "\n",
    "<img src='./img/algeq.png'  width=200>\n",
    "\n",
    "Para encontrar las frecuencias, se puede pensar lo anterior como un problema de valor propio regido por la ecuación\n",
    "\n",
    "$M\\vec{v} = -\\omega^2 \\vec{v}$\n",
    "\n",
    "donde $\\vec{v}$ es el vector de amplitudes $c_1,c_2,c_3$ y $-\\omega^2$ los valores propios. Utilizando el método de la potencia, encuentre la frecuencia máxima y mínima de oscilación del sistema y sus amplitudes asociadas para cada caso (modo normal). En su solución pruebe $k_{11}=k_{22}=k_{33}=-2\\kappa, k_{12}=k_{21}=k_{23}=k_{32}=\\kappa, k_{13}=k_{31}=0$.\n",
    "\n",
    "\n"
   ]
  }
 ],
 "metadata": {
  "kernelspec": {
   "display_name": "base",
   "language": "python",
   "name": "python3"
  },
  "language_info": {
   "codemirror_mode": {
    "name": "ipython",
    "version": 3
   },
   "file_extension": ".py",
   "mimetype": "text/x-python",
   "name": "python",
   "nbconvert_exporter": "python",
   "pygments_lexer": "ipython3",
   "version": "3.11.4"
  }
 },
 "nbformat": 4,
 "nbformat_minor": 2
}
