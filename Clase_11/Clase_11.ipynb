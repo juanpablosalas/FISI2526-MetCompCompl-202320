{
 "cells": [
  {
   "cell_type": "markdown",
   "metadata": {},
   "source": [
    "## Repaso Matrices - Taller 3\n",
    "\n",
    "Este taller debe ser entregado a más tardar el viernes 3 de noviembre a medianoche (11:59pm)."
   ]
  },
  {
   "cell_type": "markdown",
   "metadata": {},
   "source": [
    "1. **20 pts** Construya el algoritmo de multiplicación de matrices y encuentre el resultado de las siguientes operaciones.\n",
    "\n",
    "a.\n",
    "\n",
    " <img src ='./img/matrix1.png' width=200px>\n",
    "\n",
    " b.\n",
    " \n",
    "  <img src ='./img/matrix2.png' width=200px>\n",
    "\n",
    "  c. \n",
    "\n",
    "  <img src ='./img/matrix3.png' width=200px>\n",
    "\n",
    "  Utilizando el ejercicio anterior, demuestre que la multiplicación no es conmutativa **10 pts**."
   ]
  },
  {
   "cell_type": "markdown",
   "metadata": {},
   "source": [
    "2. **[40 pts]** Utilizando el algoritmo de reducción Gaussiana, resuelva los siguientes sistemas de ecuaciones:\n",
    "\n",
    "a.\n",
    "\n",
    " <img src ='./img/gaussian1.png' width=300px align=center>\n",
    "\n",
    " b.\n",
    "\n",
    " <img src ='./img/gaussian2.png' width=300px>"
   ]
  },
  {
   "cell_type": "markdown",
   "metadata": {},
   "source": [
    "3. **30 pts** Un sistema de tres osciladores acoplados, tiene las siguientes ecuaciones de movimiento:\n",
    "\n",
    "<img src='./img/eqmotion.png' width=200>\n",
    "\n",
    "Al reemplazar $x_1=c_1e^{i\\omega t},x_2=c_2e^{i\\omega t},x_3=c_3e^{i\\omega t}$ se obtienen las siguientes ecuaciones algebraicas\n",
    "\n",
    "<img src='./img/algeq.png'  width=200>\n",
    "\n",
    "Para encontrar las frecuencias, se puede pensar lo anterior como un problema de valor propio regido por la ecuación\n",
    "\n",
    "$M\\vec{v} = -\\omega^2 \\vec{v}$\n",
    "\n",
    "donde $\\vec{v}$ es el vector de amplitudes $c_1,c_2,c_3$ y $-\\omega^2$ los valores propios. Utilizando el método de la potencia, encuentre la frecuencia máxima y mínima de oscilación del sistema y sus amplitudes asociadas para cada caso (modo normal).\n",
    "\n",
    "\n"
   ]
  },
  {
   "cell_type": "markdown",
   "metadata": {},
   "source": [
    "## Reduccion Gaussiana"
   ]
  },
  {
   "cell_type": "code",
   "execution_count": null,
   "metadata": {},
   "outputs": [],
   "source": [
    "def gaussian_elimination(A,b):\n",
    "    return None"
   ]
  }
 ],
 "metadata": {
  "kernelspec": {
   "display_name": "Python 3",
   "language": "python",
   "name": "python3"
  },
  "language_info": {
   "name": "python",
   "version": "3.10.12"
  }
 },
 "nbformat": 4,
 "nbformat_minor": 2
}
