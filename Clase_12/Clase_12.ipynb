{
 "cells": [
  {
   "cell_type": "code",
   "execution_count": 2,
   "metadata": {},
   "outputs": [],
   "source": [
    "import numpy as np"
   ]
  },
  {
   "cell_type": "code",
   "execution_count": 20,
   "metadata": {},
   "outputs": [],
   "source": [
    "N = 10000000\n",
    "\n",
    "todos_tuvieron_premio = 0\n",
    "solo_dos_boletas = 0\n",
    "\n",
    "for i in range(N):\n",
    "    boletas = np.zeros(50)\n",
    "    boletas[:3] =1\n",
    "    np.random.shuffle(boletas)\n",
    "    if sum(boletas[:4])==3:\n",
    "        todos_tuvieron_premio +=1 \n",
    "    if sum(boletas[:4])==2:\n",
    "        solo_dos_boletas +=1\n",
    "    "
   ]
  },
  {
   "cell_type": "code",
   "execution_count": 22,
   "metadata": {},
   "outputs": [
    {
     "data": {
      "text/plain": [
       "0.0002027"
      ]
     },
     "execution_count": 22,
     "metadata": {},
     "output_type": "execute_result"
    }
   ],
   "source": [
    "todos_tuvieron_premio/N"
   ]
  },
  {
   "cell_type": "code",
   "execution_count": 21,
   "metadata": {},
   "outputs": [
    {
     "data": {
      "text/plain": [
       "0.0140494"
      ]
     },
     "execution_count": 21,
     "metadata": {},
     "output_type": "execute_result"
    }
   ],
   "source": [
    "solo_dos_boletas/N"
   ]
  },
  {
   "cell_type": "code",
   "execution_count": 23,
   "metadata": {},
   "outputs": [
    {
     "data": {
      "text/plain": [
       "0.014081632653061225"
      ]
     },
     "execution_count": 23,
     "metadata": {},
     "output_type": "execute_result"
    }
   ],
   "source": [
    "69/4900"
   ]
  },
  {
   "cell_type": "code",
   "execution_count": 25,
   "metadata": {},
   "outputs": [],
   "source": [
    "N = 1000000\n",
    "evento_se_cumplio = 0\n",
    "for i in range(N):\n",
    "    cartas = np.arange(1,53)\n",
    "    np.random.shuffle(cartas)\n",
    "    cartas_tomo = cartas[:5]\n",
    "\n",
    "    num_ases = 0\n",
    "    for carta in cartas_tomo:\n",
    "        if carta%13 ==1:\n",
    "            # Es un as\n",
    "            num_ases +=1 \n",
    "\n",
    "    num_reyes = 0\n",
    "    for carta in cartas_tomo:\n",
    "        if carta%13 ==0:\n",
    "            # Es un rey\n",
    "            num_reyes +=1 \n",
    "\n",
    "    if (num_ases ==3) & (num_reyes==2):\n",
    "        evento_se_cumplio +=1"
   ]
  },
  {
   "cell_type": "code",
   "execution_count": 26,
   "metadata": {},
   "outputs": [
    {
     "data": {
      "text/plain": [
       "18"
      ]
     },
     "execution_count": 26,
     "metadata": {},
     "output_type": "execute_result"
    }
   ],
   "source": [
    "evento_se_cumplio"
   ]
  },
  {
   "cell_type": "code",
   "execution_count": 27,
   "metadata": {},
   "outputs": [
    {
     "data": {
      "text/plain": [
       "1.8e-05"
      ]
     },
     "execution_count": 27,
     "metadata": {},
     "output_type": "execute_result"
    }
   ],
   "source": [
    "evento_se_cumplio/N"
   ]
  },
  {
   "cell_type": "code",
   "execution_count": null,
   "metadata": {},
   "outputs": [],
   "source": []
  }
 ],
 "metadata": {
  "kernelspec": {
   "display_name": "Python 3",
   "language": "python",
   "name": "python3"
  },
  "language_info": {
   "codemirror_mode": {
    "name": "ipython",
    "version": 3
   },
   "file_extension": ".py",
   "mimetype": "text/x-python",
   "name": "python",
   "nbconvert_exporter": "python",
   "pygments_lexer": "ipython3",
   "version": "3.10.8"
  }
 },
 "nbformat": 4,
 "nbformat_minor": 2
}
