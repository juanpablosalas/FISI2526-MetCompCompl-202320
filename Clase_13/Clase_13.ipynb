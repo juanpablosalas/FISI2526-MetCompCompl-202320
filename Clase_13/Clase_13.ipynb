{
 "cells": [
  {
   "cell_type": "code",
   "execution_count": 6,
   "metadata": {},
   "outputs": [],
   "source": [
    "import numpy as np\n",
    "import matplotlib.pyplot as plt\n",
    "import scipy as sp"
   ]
  },
  {
   "cell_type": "code",
   "execution_count": 11,
   "metadata": {},
   "outputs": [],
   "source": [
    "N = int(1e6)\n",
    "eventos = np.random.poisson(5,N)\n",
    "\n",
    "p1, p2, p3 = 0,0,0\n",
    "\n",
    "for e in eventos:\n",
    "    if e==2:\n",
    "        p1 +=1\n",
    "    \n",
    "    if e<=2:\n",
    "        p2 += 1\n",
    "\n",
    "    if e>10:\n",
    "        p3 +=1\n",
    "\n",
    "p1, p2, p3 = p1/N,p2/N, p3/N"
   ]
  },
  {
   "cell_type": "code",
   "execution_count": 12,
   "metadata": {},
   "outputs": [
    {
     "data": {
      "text/plain": [
       "(0.084139, 0.124757, 0.013777)"
      ]
     },
     "execution_count": 12,
     "metadata": {},
     "output_type": "execute_result"
    }
   ],
   "source": [
    "p1,p2,p3"
   ]
  },
  {
   "cell_type": "code",
   "execution_count": 22,
   "metadata": {},
   "outputs": [
    {
     "data": {
      "text/plain": [
       "0.95429"
      ]
     },
     "execution_count": 22,
     "metadata": {},
     "output_type": "execute_result"
    }
   ],
   "source": [
    "resistencias = np.random.normal(0.13,0.005,N)\n",
    "p = 0\n",
    "for r in resistencias:\n",
    "    if r>=0.12 and r<=0.14:\n",
    "        p += 1\n",
    "p = p/N\n",
    "p"
   ]
  },
  {
   "cell_type": "code",
   "execution_count": 23,
   "metadata": {},
   "outputs": [
    {
     "name": "stdout",
     "output_type": "stream",
     "text": [
      "0\n",
      "1\n",
      "2\n",
      "3\n",
      "4\n",
      "5\n",
      "6\n",
      "7\n",
      "8\n",
      "9\n"
     ]
    }
   ],
   "source": [
    "for n in range(100):\n",
    "    desconexiones = np.random.poisson()\n",
    "    print(n)"
   ]
  },
  {
   "cell_type": "code",
   "execution_count": 1,
   "metadata": {},
   "outputs": [],
   "source": [
    "import numpy as np"
   ]
  },
  {
   "cell_type": "code",
   "execution_count": 3,
   "metadata": {},
   "outputs": [],
   "source": [
    "mu = 0.13\n",
    "sigma = 0.005\n",
    "N = 10000\n",
    "x = np.random.normal(mu,sigma,N)"
   ]
  },
  {
   "cell_type": "code",
   "execution_count": 6,
   "metadata": {},
   "outputs": [
    {
     "data": {
      "text/plain": [
       "0.9527"
      ]
     },
     "execution_count": 6,
     "metadata": {},
     "output_type": "execute_result"
    }
   ],
   "source": [
    "conteo = 0 \n",
    "for i in x:\n",
    "    if i>=0.12 and i<=0.14:\n",
    "        conteo +=1\n",
    "conteo/N"
   ]
  },
  {
   "cell_type": "code",
   "execution_count": 19,
   "metadata": {},
   "outputs": [],
   "source": [
    "lam = 5\n",
    "N = 10000\n",
    "\n",
    "personas_ICU = np.random.poisson(5,N)\n",
    "\n",
    "p1 = 0\n",
    "p2 = 0\n",
    "p3 = 0\n",
    "\n",
    "for i in range(N):\n",
    "    if personas_ICU[i]==2:\n",
    "        p1 +=1\n",
    "    \n",
    "    if personas_ICU[i]<=2:\n",
    "        p2 +=1\n",
    "\n",
    "    if personas_ICU[i]>10:\n",
    "        p3 +=1\n",
    "\n"
   ]
  },
  {
   "cell_type": "code",
   "execution_count": 21,
   "metadata": {},
   "outputs": [
    {
     "data": {
      "text/plain": [
       "(0.0813, 0.1182, 0.0138)"
      ]
     },
     "execution_count": 21,
     "metadata": {},
     "output_type": "execute_result"
    }
   ],
   "source": [
    "p1/N, p2/N, p3/N"
   ]
  },
  {
   "cell_type": "code",
   "execution_count": null,
   "metadata": {},
   "outputs": [],
   "source": []
  }
 ],
 "metadata": {
  "kernelspec": {
   "display_name": "Python 3",
   "language": "python",
   "name": "python3"
  },
  "language_info": {
   "codemirror_mode": {
    "name": "ipython",
    "version": 3
   },
   "file_extension": ".py",
   "mimetype": "text/x-python",
   "name": "python",
   "nbconvert_exporter": "python",
   "pygments_lexer": "ipython3",
   "version": "3.10.8"
  }
 },
 "nbformat": 4,
 "nbformat_minor": 2
}
