{
 "cells": [
  {
   "cell_type": "code",
   "execution_count": 3,
   "metadata": {},
   "outputs": [],
   "source": [
    "import numpy as np \n",
    "import sympy as sym\n",
    "import matplotlib.pyplot as plt"
   ]
  },
  {
   "cell_type": "code",
   "execution_count": 4,
   "metadata": {},
   "outputs": [],
   "source": [
    "x=sym.Symbol('x', real=True)"
   ]
  },
  {
   "cell_type": "code",
   "execution_count": 5,
   "metadata": {},
   "outputs": [],
   "source": [
    "def GetLaguerre(n,x):\n",
    "    poly=0\n",
    "    if n==0:\n",
    "        poly=1\n",
    "    elif n==1:\n",
    "        poly=1-x\n",
    "    else:\n",
    "        poly=(((2*n-1-x)*GetLaguerre(n-1,x))-((n-1)*GetLaguerre(n-2,x)))/n\n",
    "    return sym.simplify(poly)"
   ]
  },
  {
   "cell_type": "code",
   "execution_count": 6,
   "metadata": {
    "scrolled": false
   },
   "outputs": [
    {
     "data": {
      "text/latex": [
       "$\\displaystyle \\frac{x^{4}}{24} - \\frac{2 x^{3}}{3} + 3 x^{2} - 4 x + 1$"
      ],
      "text/plain": [
       "x**4/24 - 2*x**3/3 + 3*x**2 - 4*x + 1"
      ]
     },
     "execution_count": 6,
     "metadata": {},
     "output_type": "execute_result"
    }
   ],
   "source": [
    "GetLaguerre(4,x)"
   ]
  },
  {
   "cell_type": "code",
   "execution_count": 7,
   "metadata": {},
   "outputs": [],
   "source": [
    "def GetNewton(f,df,xn,itmax=10000,precision=1e-14):\n",
    "    \n",
    "    error = 1.\n",
    "    it = 0\n",
    "    \n",
    "    while error >= precision and it < itmax:\n",
    "        \n",
    "        try:\n",
    "            \n",
    "            xn1 = xn - f(xn)/df(xn)\n",
    "            \n",
    "            error = np.abs(f(xn)/df(xn))\n",
    "            \n",
    "        except ZeroDivisionError:\n",
    "            print('Zero Division')\n",
    "            \n",
    "        xn = xn1\n",
    "        it += 1\n",
    "        \n",
    "    if it == itmax:\n",
    "        return False\n",
    "    else:\n",
    "        return xn"
   ]
  },
  {
   "cell_type": "code",
   "execution_count": 8,
   "metadata": {},
   "outputs": [],
   "source": [
    "def GetAllRoots(x,f,df, tolerancia=10):\n",
    "    \n",
    "    Roots = np.array([])\n",
    "    \n",
    "    for i in x:\n",
    "        \n",
    "        root = GetNewton(f,df,i)\n",
    "        \n",
    "        if type(root)!=bool:\n",
    "            \n",
    "            croot = np.round(root, tolerancia)\n",
    "            \n",
    "            if croot not in Roots:\n",
    "                Roots = np.append(Roots,croot)\n",
    "                \n",
    "    Roots.sort()\n",
    "    \n",
    "    return Roots"
   ]
  },
  {
   "cell_type": "code",
   "execution_count": 9,
   "metadata": {},
   "outputs": [],
   "source": [
    "def GetAllRootsGLag(n):\n",
    "    xn=np.linspace(0,n+(n-1)*np.sqrt(n),100)\n",
    "    polinomio=[]\n",
    "    Derivada=[]\n",
    "    for i in range(n+1):\n",
    "        polinomio.append(GetLaguerre(i,x))\n",
    "        Derivada.append(sym.simplify(sym.diff(GetLaguerre(i,x),x,1)))\n",
    "    Poly=sym.lambdify([x],polinomio[n],'numpy')\n",
    "    Dpoly=sym.lambdify([x], Derivada[n],'numpy')\n",
    "    return GetAllRoots(xn,Poly,Dpoly)\n",
    "    "
   ]
  },
  {
   "cell_type": "code",
   "execution_count": 10,
   "metadata": {},
   "outputs": [],
   "source": [
    "def GetWeightsGLag(n):\n",
    "    roots=GetAllRootsGLag(n)\n",
    "    poly=[]\n",
    "    for i in range(n+2):\n",
    "        poly.append(GetLaguerre(i,x))\n",
    "    pl=sym.lambdify([x], poly[n+1], 'numpy')\n",
    "    c=roots/(((n+1)**2)*((pl(roots))**2))\n",
    "    return c"
   ]
  },
  {
   "cell_type": "code",
   "execution_count": 11,
   "metadata": {},
   "outputs": [
    {
     "data": {
      "text/plain": [
       "(array([6.03154105e-01, 3.57418692e-01, 3.88879085e-02, 5.39294706e-04]),\n",
       " array([0.32254769, 1.7457611 , 4.5366203 , 9.39507091]))"
      ]
     },
     "execution_count": 11,
     "metadata": {},
     "output_type": "execute_result"
    }
   ],
   "source": [
    "#Comoprobar Integral\n",
    "pesos=GetWeightsGLag(4)\n",
    "funcion=lambda x: np.cos(x)\n",
    "raices=GetAllRootsGLag(4)\n",
    "pesos,raices"
   ]
  },
  {
   "cell_type": "code",
   "execution_count": 12,
   "metadata": {
    "scrolled": true
   },
   "outputs": [
    {
     "name": "stdout",
     "output_type": "stream",
     "text": [
      "0.5024937057715209\n"
     ]
    }
   ],
   "source": [
    "I = 0\n",
    "for i in range(4):\n",
    "    I += pesos[i]*funcion(raices[i])\n",
    "print(I)"
   ]
  },
  {
   "cell_type": "code",
   "execution_count": 13,
   "metadata": {},
   "outputs": [],
   "source": [
    "def GetHermite(n,x):\n",
    "    if n==0:\n",
    "        poly=1\n",
    "    else:\n",
    "        poly=(2*x*GetHermite(n-1,x))-(sym.diff(GetHermite(n-1,x),x,1))\n",
    "    return sym.simplify(poly)"
   ]
  },
  {
   "cell_type": "code",
   "execution_count": 14,
   "metadata": {},
   "outputs": [
    {
     "data": {
      "text/latex": [
       "$\\displaystyle 16 x^{4} - 48 x^{2} + 12$"
      ],
      "text/plain": [
       "16*x**4 - 48*x**2 + 12"
      ]
     },
     "execution_count": 14,
     "metadata": {},
     "output_type": "execute_result"
    }
   ],
   "source": [
    "GetHermite(4,x)"
   ]
  },
  {
   "cell_type": "code",
   "execution_count": 15,
   "metadata": {},
   "outputs": [],
   "source": [
    "def GetAllRootsGHer(n):\n",
    "    xn=np.linspace(-np.sqrt(4*n+1),np.sqrt(4*n+1))\n",
    "    polinomio=[]\n",
    "    derivada=[]\n",
    "    for i in range(n+1):\n",
    "        polinomio.append(GetHermite(i,x))\n",
    "        derivada.append(sym.diff(GetHermite(i,x),x,1))\n",
    "    poly=sym.lambdify([x],polinomio[n],'numpy')\n",
    "    Dpoly=sym.lambdify([x],derivada[n],'numpy')\n",
    "    return GetAllRoots(xn,poly,Dpoly)"
   ]
  },
  {
   "cell_type": "code",
   "execution_count": 16,
   "metadata": {},
   "outputs": [],
   "source": [
    "def GetWeightsGHer(n):\n",
    "    xk=GetAllRootsGHer(n)\n",
    "    polinomio=[]\n",
    "    for i in range(n+1):\n",
    "        polinomio.append(GetHermite(i,x))\n",
    "    poly=sym.lambdify([x],polinomio[n-1],'numpy')\n",
    "    pesos=((2**(n-1))*np.math.factorial(n)*(np.sqrt(np.pi)))/((n**2)*(poly(xk)**2))\n",
    "    return pesos"
   ]
  },
  {
   "cell_type": "code",
   "execution_count": 17,
   "metadata": {},
   "outputs": [
    {
     "data": {
      "text/plain": [
       "(array([-1.22474487,  0.        ,  1.22474487]),\n",
       " array([0.29540898, 1.1816359 , 0.29540898]))"
      ]
     },
     "execution_count": 17,
     "metadata": {},
     "output_type": "execute_result"
    }
   ],
   "source": [
    "#Comprobar Integral\n",
    "f=lambda x: x**2\n",
    "r=GetAllRootsGHer(3)\n",
    "p=GetWeightsGHer(3)\n",
    "r,p"
   ]
  },
  {
   "cell_type": "code",
   "execution_count": 18,
   "metadata": {},
   "outputs": [
    {
     "data": {
      "text/plain": [
       "0.8862269254284135"
      ]
     },
     "execution_count": 18,
     "metadata": {},
     "output_type": "execute_result"
    }
   ],
   "source": [
    "I=0\n",
    "for i in range(3):\n",
    "    I+=p[i]*f(r[i])\n",
    "I"
   ]
  },
  {
   "cell_type": "code",
   "execution_count": 19,
   "metadata": {},
   "outputs": [],
   "source": [
    "#3.3 PUNTO 1\n",
    "#Distribución de velocidades\n",
    "N=5\n",
    "pesos=GetWeightsGLag(N)\n",
    "raices=GetAllRootsGLag(N)\n",
    "funcion_fu=lambda x: (2/np.sqrt(np.pi))*np.sqrt(x)"
   ]
  },
  {
   "cell_type": "code",
   "execution_count": 20,
   "metadata": {},
   "outputs": [
    {
     "data": {
      "text/plain": [
       "1.0105058623263745"
      ]
     },
     "execution_count": 20,
     "metadata": {},
     "output_type": "execute_result"
    }
   ],
   "source": [
    "Integral=0\n",
    "for i in range(N):\n",
    "    Integral+=pesos[i]*funcion_fu(raices[i])\n",
    "Integral"
   ]
  },
  {
   "cell_type": "code",
   "execution_count": 21,
   "metadata": {},
   "outputs": [],
   "source": [
    "#PUNTO 2\n",
    "M=3\n",
    "R=8.31446\n",
    "v=np.linspace(0,100,1000)\n",
    "T=5"
   ]
  },
  {
   "cell_type": "code",
   "execution_count": 22,
   "metadata": {},
   "outputs": [],
   "source": [
    "def distribucion_vel(M,v,T):\n",
    "    P=(M/(2*np.pi*R*T))**(3/2)\n",
    "    u=(M*(v**2)/(2*R*T))\n",
    "    pv=(4*np.pi)*P*(v**2)*np.exp(-u)\n",
    "    return pv"
   ]
  },
  {
   "cell_type": "code",
   "execution_count": 23,
   "metadata": {
    "scrolled": false
   },
   "outputs": [
    {
     "data": {
      "image/png": "[encoded data removed]",
      "text/plain": [
       "<Figure size 1080x576 with 1 Axes>"
      ]
     },
     "metadata": {
      "needs_background": "light"
     },
     "output_type": "display_data"
    }
   ],
   "source": [
    "fig,ax=plt.subplots(figsize=(15,8))\n",
    "T=1\n",
    "for i in range(3):\n",
    "    for j in range(4):\n",
    "        ax.plot(v,distribucion_vel(M,v,T), label=\"P(v) T={}\".format(str(T)))\n",
    "        ax.set_ylabel('P(v)')\n",
    "        ax.set_xlabel('Velocidad(v)')\n",
    "        ax.set_title('P(v)')\n",
    "        T+=10\n",
    "plt.legend()\n",
    "plt.show()\n",
    "#Entre más aumenta la velocidad y la temperatura del gas, se reduce la probabilidad de que este tome dichos valores, por esto en T=1 hay una alta probabilidad que a una temperatura baja tenga una baja velocidad"
   ]
  },
  {
   "cell_type": "code",
   "execution_count": 24,
   "metadata": {},
   "outputs": [],
   "source": [
    "#PUNTO 3\n",
    "N=5\n",
    "R=8.31446\n",
    "pesos=GetWeightsGLag(N)\n",
    "raices=GetAllRootsGLag(N)"
   ]
  },
  {
   "cell_type": "code",
   "execution_count": 25,
   "metadata": {},
   "outputs": [],
   "source": [
    "def velocidad_promedio(M,v,R):\n",
    "    velocidad_promedio=[]\n",
    "    Temperatura=[]\n",
    "    T=1\n",
    "    for i in range(10):\n",
    "        Integral=0\n",
    "        f=lambda x:np.sqrt((2*x*R*T)/M)*(2/np.sqrt(np.pi))*np.sqrt(x)\n",
    "        for j in range(N):\n",
    "            Integral+=pesos[j]*f(raices[j])    \n",
    "        velocidad_promedio.append(Integral)\n",
    "        Temperatura.append(T)\n",
    "        T+=20\n",
    "    return velocidad_promedio,Temperatura"
   ]
  },
  {
   "cell_type": "code",
   "execution_count": 26,
   "metadata": {
    "scrolled": true
   },
   "outputs": [],
   "source": [
    "velocidad_p,temperaturas=velocidad_promedio(M,v,R)"
   ]
  },
  {
   "cell_type": "code",
   "execution_count": 27,
   "metadata": {},
   "outputs": [
    {
     "data": {
      "image/png": "[encoded data removed]",
      "text/plain": [
       "<Figure size 576x360 with 1 Axes>"
      ]
     },
     "metadata": {
      "needs_background": "light"
     },
     "output_type": "display_data"
    }
   ],
   "source": [
    "fig,ax=plt.subplots(figsize=(8,5))\n",
    "ax.plot(temperaturas,velocidad_p)\n",
    "ax.scatter(temperaturas,velocidad_p)\n",
    "ax.scatter(temperaturas[0],velocidad_p[0], color=\"r\")#Punto b de corte con el eje y\n",
    "ax.set_yscale('log')\n",
    "ax.set_xscale('log')\n",
    "ax.set_ylabel('V_avg')    \n",
    "ax.set_xlabel('T')\n",
    "plt.show()"
   ]
  },
  {
   "cell_type": "code",
   "execution_count": 28,
   "metadata": {
    "scrolled": true
   },
   "outputs": [
    {
     "data": {
      "text/plain": [
       "(2.6566017472350802, 2.656601747633738)"
      ]
     },
     "execution_count": 28,
     "metadata": {},
     "output_type": "execute_result"
    }
   ],
   "source": [
    "#Verificar\n",
    "v_avg=np.sqrt((8*R*(1))/(np.pi*M))\n",
    "punto_corte=velocidad_p[0]\n",
    "v_avg,punto_corte"
   ]
  },
  {
   "cell_type": "code",
   "execution_count": 29,
   "metadata": {},
   "outputs": [],
   "source": [
    "#PUNTO 4\n",
    "N=8\n",
    "R=8.31446\n",
    "pesos=GetWeightsGLag(N)\n",
    "raices=GetAllRootsGLag(N)"
   ]
  },
  {
   "cell_type": "code",
   "execution_count": 30,
   "metadata": {},
   "outputs": [],
   "source": [
    "def velocidad_rms(M,v,R):\n",
    "    velocidad_rms=[]\n",
    "    Temperatura=[]\n",
    "    T=1\n",
    "    for i in range(10):\n",
    "        Integral=0\n",
    "        f=lambda x:((2*R*T*x)/M)*(2/np.sqrt(np.pi))*np.sqrt(x)\n",
    "        for j in range(N):\n",
    "            Integral+=pesos[j]*f(raices[j]) \n",
    "        Integral=np.sqrt(Integral)\n",
    "        velocidad_rms.append(Integral)\n",
    "        Temperatura.append(T)\n",
    "        T+=20\n",
    "    return velocidad_rms,Temperatura"
   ]
  },
  {
   "cell_type": "code",
   "execution_count": 31,
   "metadata": {},
   "outputs": [],
   "source": [
    "velocidad_rm,temperaturas=velocidad_rms(M,v,R)"
   ]
  },
  {
   "cell_type": "code",
   "execution_count": 32,
   "metadata": {
    "scrolled": true
   },
   "outputs": [
    {
     "data": {
      "image/png": "[encoded data removed]",
      "text/plain": [
       "<Figure size 576x360 with 1 Axes>"
      ]
     },
     "metadata": {
      "needs_background": "light"
     },
     "output_type": "display_data"
    }
   ],
   "source": [
    "fig,ax=plt.subplots(figsize=(8,5))\n",
    "ax.plot(temperaturas,velocidad_rm)\n",
    "ax.scatter(temperaturas,velocidad_rm)\n",
    "ax.scatter(temperaturas[0],velocidad_rm[0], color=\"r\")#Punto b de corte con el eje y\n",
    "ax.set_yscale('log')\n",
    "ax.set_xscale('log')\n",
    "ax.set_ylabel('V_rms')    \n",
    "ax.set_xlabel('T')\n",
    "plt.show()"
   ]
  },
  {
   "cell_type": "code",
   "execution_count": 33,
   "metadata": {},
   "outputs": [
    {
     "data": {
      "text/plain": [
       "(2.883480535741485, 2.8829393970481667)"
      ]
     },
     "execution_count": 33,
     "metadata": {},
     "output_type": "execute_result"
    }
   ],
   "source": [
    "#Verificar\n",
    "v_rms=np.sqrt((3*R*(1))/M)\n",
    "punto_corte=velocidad_rm[0]\n",
    "v_rms,punto_corte"
   ]
  },
  {
   "cell_type": "code",
   "execution_count": null,
   "metadata": {},
   "outputs": [],
   "source": []
  }
 ],
 "metadata": {
  "kernelspec": {
   "display_name": "Python 3",
   "language": "python",
   "name": "python3"
  },
  "language_info": {
   "codemirror_mode": {
    "name": "ipython",
    "version": 3
   },
   "file_extension": ".py",
   "mimetype": "text/x-python",
   "name": "python",
   "nbconvert_exporter": "python",
   "pygments_lexer": "ipython3",
   "version": "3.8.3"
  }
 },
 "nbformat": 4,
 "nbformat_minor": 4
}
