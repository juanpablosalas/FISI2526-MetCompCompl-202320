{
 "cells": [
  {
   "cell_type": "markdown",
   "metadata": {},
   "source": [
    "## Matrices y eliminación de Gauss Jordan\n",
    "\n",
    "Un sistema de ecuaciones lineales de $n$ variables se puede escribir \n",
    "\n",
    "$$\n",
    "\\begin{align*}\n",
    "A \\mathbf{x} = \\mathbf{b}\n",
    "\\end{align*}\n",
    "$$\n",
    "\n",
    "donde $A \\in \\mathbb{M}_{n \\times n}$ y $\\mathbf{x}, \\mathbf{b}$ son vectores en $\\mathbb{R}^n$. El método de eliminación de Gauss Jordan consiste en realizar operaciones elementales sobre la matriz extendida $[A|\\mathbf{b}]$ hasta obtener una matriz triangular superior. Entonces, un sistema de ecuaciones lineales\n",
    "\n",
    "$$\n",
    "\\begin{cases}\n",
    "& 2x_0 + x_1 + x_2 = 8 \\\\ \n",
    "& x_0 + x_1 -2x_2 = -2 \\\\\n",
    "& 5x_0 + 10x_1 +5x_2 = 10\n",
    "\\end{cases}\n",
    "$$\n",
    "\n",
    "se puede reescribir de forma matricial \n",
    "\n",
    "$$\n",
    "A = \\begin{bmatrix}\n",
    "2 & 1 & 1 \\\\\n",
    "1 & 1 & -2 \\\\\n",
    "5 &10 & 5\n",
    "\\end{bmatrix} \\qquad \\qquad \\mathbf{x} = \\begin{bmatrix} x_0 \\\\ x_1 \\\\ x_2 \\end{bmatrix} \\qquad \\qquad \\mathbf{b} = \\begin{bmatrix} 8 \\\\ -2 \\\\ 10 \\end{bmatrix}\n",
    "$$\n",
    "\n",
    "Siguiendo el algoritmo de Gauss, podemos llegar a la versión reducida utilizando operaciones elementales de fila, es decir reemplazando la fila $i$-ésima por\n",
    "\n",
    "$$\n",
    "R_i^\\prime = R_i + kR_j\n",
    "$$\n",
    "\n",
    "Para al final obtener\n",
    "\n",
    "$$\n",
    "[A|b] = \\left[ \\begin{array}{ccc|c}\n",
    "2 & 1 & 1 & 8 \\\\\n",
    "0 & 0.5 & -2.5 & -6 \\\\\n",
    "0 &0 & 40 & 80\n",
    "\\end{array} \\right]\n",
    "$$\n",
    "\n",
    "donde la solución es casi trivial. El reto de la clase de hoy será escribir el algoritmo que retorne las matrices de su forma reducida."
   ]
  },
  {
   "cell_type": "markdown",
   "metadata": {},
   "source": [
    "### Sustitución hacia atrás"
   ]
  },
  {
   "cell_type": "code",
   "execution_count": 72,
   "metadata": {},
   "outputs": [],
   "source": [
    "import numpy as np"
   ]
  },
  {
   "cell_type": "markdown",
   "metadata": {},
   "source": [
    "En un mundo ideal, todos los sistemas de ecuaciones ya serían matrices triangulares superiores como la que acabamos de ver de $[A|b]$, en tal caso: ¿cómo se resolvería el vector $x$?\n",
    "\n",
    "$$\n",
    "\\begin{cases}\n",
    "& 40x_2 =80 \\longrightarrow x_2 = \\frac{80}{40}\\\\\n",
    "& 0.5x_1 -2.5x_2 = -6 \\longrightarrow x_1 = \\frac{-6 + 2.5x_2}{0.5} \\\\\n",
    "& 2x_0 + x_1 + x_2 = 8 \\longrightarrow x_0 = \\frac{8-x_2-x_1}{2} \n",
    "\\end{cases}\n",
    "$$"
   ]
  },
  {
   "cell_type": "code",
   "execution_count": 64,
   "metadata": {},
   "outputs": [],
   "source": [
    "def back_substitution(A, b):\n",
    "    '''\n",
    "    Args:\n",
    "        A (np.array): Matriz de coeficientes triangular superior\n",
    "        b (np.arra): vector de constantes\n",
    "        \n",
    "    '''\n",
    "\n",
    "    n = np.shape(A)[0]\n",
    "\n",
    "    x = np.zeros(n)\n",
    "\n",
    "    for i in range(n-1,-1,-1):\n",
    "        sum = b[i]\n",
    "        for j in range(n-1,i,-1):\n",
    "            sum -= A[i,j]*x[j]\n",
    "        x[i] = sum/A[i,i]\n",
    "\n",
    "    return x"
   ]
  },
  {
   "cell_type": "code",
   "execution_count": 65,
   "metadata": {},
   "outputs": [],
   "source": [
    "A = np.array([[2,1,1],\\\n",
    "     [0,1/2,-5/2],\n",
    "     [0,0,40]])\n",
    "\n",
    "b = np.array([8,-6,80])"
   ]
  },
  {
   "cell_type": "code",
   "execution_count": 66,
   "metadata": {},
   "outputs": [
    {
     "data": {
      "text/plain": [
       "array([ 4., -2.,  2.])"
      ]
     },
     "execution_count": 66,
     "metadata": {},
     "output_type": "execute_result"
    }
   ],
   "source": [
    "back_substitution(A,b)"
   ]
  },
  {
   "cell_type": "markdown",
   "metadata": {},
   "source": [
    "### Eliminación Gaussiana"
   ]
  },
  {
   "cell_type": "markdown",
   "metadata": {},
   "source": [
    "¿Cómo se puede convertir una matriz aumentada cualquiera $[A|b]$ a una triangular superior? Mediante el algoritmo de **eliminación Gaussiana**.\n",
    "\n",
    "Primero debemos construir nuestra matriz aumentada $M = [A|b]$. "
   ]
  },
  {
   "cell_type": "code",
   "execution_count": 73,
   "metadata": {},
   "outputs": [],
   "source": [
    "A = np.array([[2,1,1],\\\n",
    "     [1,1,-2],\n",
    "     [5,10,5]])"
   ]
  },
  {
   "cell_type": "code",
   "execution_count": 74,
   "metadata": {},
   "outputs": [],
   "source": [
    "b = np.array([8,-2,10])"
   ]
  },
  {
   "cell_type": "code",
   "execution_count": 77,
   "metadata": {},
   "outputs": [
    {
     "data": {
      "text/plain": [
       "3"
      ]
     },
     "execution_count": 77,
     "metadata": {},
     "output_type": "execute_result"
    }
   ],
   "source": [
    "np.shape(A)[0]"
   ]
  },
  {
   "cell_type": "code",
   "execution_count": 75,
   "metadata": {},
   "outputs": [],
   "source": [
    "n = np.shape(A)[0]\n",
    "M = np.zeros(shape=(n,n+1))"
   ]
  },
  {
   "cell_type": "code",
   "execution_count": 78,
   "metadata": {},
   "outputs": [],
   "source": [
    "M[:,0:n] = A\n",
    "M[:,n] = b"
   ]
  },
  {
   "cell_type": "code",
   "execution_count": 79,
   "metadata": {},
   "outputs": [
    {
     "data": {
      "text/plain": [
       "array([[ 2.,  1.,  1.,  8.],\n",
       "       [ 1.,  1., -2., -2.],\n",
       "       [ 5., 10.,  5., 10.]])"
      ]
     },
     "execution_count": 79,
     "metadata": {},
     "output_type": "execute_result"
    }
   ],
   "source": [
    "M"
   ]
  },
  {
   "cell_type": "markdown",
   "metadata": {},
   "source": [
    "Ahora, su reto es implementar el algoritmo de eliminación Gaussiana que produce una matriz triangular superior. Para esta primera parte, asuma que ninguna entrada de la matriz es cero. Debe recorrer todas las columnas menos la última de la matriz $A$, y para cada una de estas recorrer todas las filas desde la que está debajo de la diagonal hasta el final implementando operaciones de fila elementales.\n",
    "\n",
    "Una vez esté satisfecho con su algoritmo, escríbalo en una función `def gaussian_elimination(A,b)` que retorne la matriz aumentada en su forma reducida."
   ]
  },
  {
   "cell_type": "code",
   "execution_count": null,
   "metadata": {},
   "outputs": [],
   "source": [
    "def gaussian_elimination(A: np.array,b: np.array):\n",
    "    '''\n",
    "    Args:\n",
    "        A (np.array): Matriz de coeficientes cuadrada (n x n).\n",
    "        b (np.array): Vector de constantes de longitud n\n",
    "\n",
    "    Returns:\n",
    "        M (np.array): Matriz aumentada [A|b] reducida utilizando el algoritmo de eliminación Gaussiana\n",
    "    '''\n",
    "\n",
    "    return M"
   ]
  },
  {
   "cell_type": "code",
   "execution_count": null,
   "metadata": {},
   "outputs": [],
   "source": [
    "A1 = np.array([[1,2,1,-1],\\\n",
    "             [3,2,4,4],\n",
    "             [4,4,3,4],\n",
    "             [2,0,1,5]])"
   ]
  },
  {
   "cell_type": "code",
   "execution_count": null,
   "metadata": {},
   "outputs": [],
   "source": [
    "b1 = np.array([5,16,22,15])"
   ]
  }
 ],
 "metadata": {
  "kernelspec": {
   "display_name": "Python 3",
   "language": "python",
   "name": "python3"
  },
  "language_info": {
   "codemirror_mode": {
    "name": "ipython",
    "version": 3
   },
   "file_extension": ".py",
   "mimetype": "text/x-python",
   "name": "python",
   "nbconvert_exporter": "python",
   "pygments_lexer": "ipython3",
   "version": "3.10.8"
  }
 },
 "nbformat": 4,
 "nbformat_minor": 2
}
