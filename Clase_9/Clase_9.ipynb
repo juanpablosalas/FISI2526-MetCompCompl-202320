{
 "cells": [
  {
   "cell_type": "markdown",
   "metadata": {},
   "source": [
    "## Matrices y eliminación de Gauss Jordan\n",
    "\n",
    "Un sistema de ecuaciones lineales de $n$ variables se puede escribir \n",
    "\n",
    "$$\n",
    "\\begin{align*}\n",
    "A \\mathbf{x} = \\mathbf{b}\n",
    "\\end{align*}\n",
    "$$\n",
    "\n",
    "donde $A \\in \\mathbb{M}_{n \\times n}$ y $\\mathbf{x}, \\mathbf{b}$ son vectores en $\\mathbb{R}^n$. El método de eliminación de Gauss Jordan consiste en realizar operaciones elementales sobre la matriz extendida $[A|\\mathbf{b}]$ hasta obtener una matriz triangular superior. Entonces, un sistema de ecuaciones lineales\n",
    "\n",
    "$$\n",
    "\\begin{cases}\n",
    "& 2x_0 + x_1 + x_2 = 8 \\\\ \n",
    "& x_0 + x_1 -2x_2 = -2 \\\\\n",
    "& 5x_0 + 10x_1 +5x_2 = 10\n",
    "\\end{cases}\n",
    "$$\n",
    "\n",
    "se puede reescribir de forma matricial \n",
    "\n",
    "$$\n",
    "A = \\begin{bmatrix}\n",
    "2 & 1 & 1 \\\\\n",
    "1 & 1 & -2 \\\\\n",
    "5 &10 & 5\n",
    "\\end{bmatrix} \\qquad \\qquad \\mathbf{x} = \\begin{bmatrix} x_0 \\\\ x_1 \\\\ x_2 \\end{bmatrix} \\qquad \\qquad \\mathbf{b} = \\begin{bmatrix} 8 \\\\ -2 \\\\ 10 \\end{bmatrix}\n",
    "$$\n",
    "\n",
    "Siguiendo el algoritmo de Gauss, podemos llegar a la versión reducida utilizando operaciones elementales de fila, es decir reemplazando la fila $i$-ésima por\n",
    "\n",
    "$$\n",
    "R_i^\\prime = R_i + kR_j\n",
    "$$\n",
    "\n",
    "Para al final obtener\n",
    "\n",
    "$$\n",
    "[A|b] = \\left[ \\begin{array}{ccc|c}\n",
    "2 & 1 & 1 & 8 \\\\\n",
    "0 & 0.5 & -2.5 & -6 \\\\\n",
    "0 &0 & 40 & 80\n",
    "\\end{array} \\right]\n",
    "$$\n",
    "\n",
    "donde la solución es casi trivial. El reto de la clase de hoy será escribir el algoritmo que retorne las matrices de su forma reducida."
   ]
  },
  {
   "cell_type": "markdown",
   "metadata": {},
   "source": [
    "En primer lugar, debemos recorrer todas las columnas menos la última de la matriz $A$, y para cada una de estas recorrer todas las filas desde la que está debajo de la diagonal hasta el final."
   ]
  }
 ],
 "metadata": {
  "kernelspec": {
   "display_name": "Python 3",
   "language": "python",
   "name": "python3"
  },
  "language_info": {
   "codemirror_mode": {
    "name": "ipython",
    "version": 3
   },
   "file_extension": ".py",
   "mimetype": "text/x-python",
   "name": "python",
   "nbconvert_exporter": "python",
   "pygments_lexer": "ipython3",
   "version": "3.10.8"
  }
 },
 "nbformat": 4,
 "nbformat_minor": 2
}
