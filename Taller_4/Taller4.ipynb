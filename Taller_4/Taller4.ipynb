{
 "cells": [
  {
   "cell_type": "markdown",
   "metadata": {},
   "source": [
    "## Taller 4: Probabilidad"
   ]
  },
  {
   "cell_type": "code",
   "execution_count": 1,
   "metadata": {},
   "outputs": [],
   "source": [
    "import numpy as np\n",
    "import sympy as sym\n"
   ]
  },
  {
   "cell_type": "markdown",
   "metadata": {},
   "source": [
    "### 1. Calculo de probabilidad"
   ]
  },
  {
   "cell_type": "code",
   "execution_count": 2,
   "metadata": {},
   "outputs": [],
   "source": [
    "cartas=np.arange(1,53)"
   ]
  },
  {
   "cell_type": "markdown",
   "metadata": {},
   "source": [
    "1. "
   ]
  },
  {
   "cell_type": "markdown",
   "metadata": {},
   "source": [
    "a) "
   ]
  },
  {
   "cell_type": "code",
   "execution_count": 3,
   "metadata": {},
   "outputs": [
    {
     "data": {
      "text/plain": [
       "0.00846377480622589"
      ]
     },
     "execution_count": 3,
     "metadata": {},
     "output_type": "execute_result"
    }
   ],
   "source": [
    "def probabilidad_a(cartas,N=10000000):\n",
    "    spades=np.arange(1,14)\n",
    "    p_1=0\n",
    "    dos_cartas=0\n",
    "    for i in range(N):\n",
    "        np.random.shuffle(cartas)\n",
    "        if set(cartas[0:2]).issubset(set(spades)):\n",
    "            dos_cartas+=1\n",
    "            if set(cartas[2:5]).issubset(set(spades)):\n",
    "                p_1+=1\n",
    "    return p_1/dos_cartas\n",
    "\n",
    "probabilidad_a(cartas)#Probabilidad de que las siguientes 3 cartas también sean espadas, dado que las 2 primeras cartas son espadas"
   ]
  },
  {
   "cell_type": "markdown",
   "metadata": {},
   "source": [
    "Hay una probabilidad de $0.08$ de que las siguientes 3 cartas también sean espadas, dado que las 2 primeras cartas son espadas"
   ]
  },
  {
   "cell_type": "markdown",
   "metadata": {},
   "source": [
    "b)"
   ]
  },
  {
   "cell_type": "code",
   "execution_count": 4,
   "metadata": {},
   "outputs": [
    {
     "data": {
      "text/plain": [
       "0.03848862677718699"
      ]
     },
     "execution_count": 4,
     "metadata": {},
     "output_type": "execute_result"
    }
   ],
   "source": [
    "def probabilidad_b(cartas, N=10000000):\n",
    "    tres_cartas=0\n",
    "    p_2=0\n",
    "    spades=np.arange(1,14)\n",
    "    for i in range(N):\n",
    "        np.random.shuffle(cartas)\n",
    "        if set(cartas[0:3]).issubset(set(spades)):\n",
    "            tres_cartas+=1\n",
    "            if set(cartas[3:5]).issubset(set(spades)):\n",
    "                p_2+=1\n",
    "    return p_2/tres_cartas\n",
    "\n",
    "probabilidad_b(cartas)#Probabilidad de que las siguientes 2 cartas también sean espadas, dado que las 3 primeras cartas son espadas"
   ]
  },
  {
   "cell_type": "markdown",
   "metadata": {},
   "source": [
    "Hay una probabilidad de $0.038$ de que las siguientes 2 cartas también sean espadas, dado que las 3 primeras cartas son espadas"
   ]
  },
  {
   "cell_type": "markdown",
   "metadata": {},
   "source": [
    "c) "
   ]
  },
  {
   "cell_type": "code",
   "execution_count": 14,
   "metadata": {},
   "outputs": [
    {
     "ename": "KeyboardInterrupt",
     "evalue": "",
     "output_type": "error",
     "traceback": [
      "\u001b[0;31m---------------------------------------------------------------------------\u001b[0m",
      "\u001b[0;31mKeyboardInterrupt\u001b[0m                         Traceback (most recent call last)",
      "\u001b[1;32m/home/mateo/Documents/Metodos computacionales/Repositorio Complementaria/MetCompCompl-202320-MateoRubio-DanielaLancheros/Taller_4/Taller4.ipynb Cell 13\u001b[0m line \u001b[0;36m1\n\u001b[1;32m     <a href='vscode-notebook-cell:/home/mateo/Documents/Metodos%20computacionales/Repositorio%20Complementaria/MetCompCompl-202320-MateoRubio-DanielaLancheros/Taller_4/Taller4.ipynb#X14sZmlsZQ%3D%3D?line=9'>10</a>\u001b[0m                 p_3\u001b[39m+\u001b[39m\u001b[39m=\u001b[39m\u001b[39m1\u001b[39m\n\u001b[1;32m     <a href='vscode-notebook-cell:/home/mateo/Documents/Metodos%20computacionales/Repositorio%20Complementaria/MetCompCompl-202320-MateoRubio-DanielaLancheros/Taller_4/Taller4.ipynb#X14sZmlsZQ%3D%3D?line=10'>11</a>\u001b[0m     \u001b[39mreturn\u001b[39;00m p_3\u001b[39m/\u001b[39mcuatro_cartas\n\u001b[0;32m---> <a href='vscode-notebook-cell:/home/mateo/Documents/Metodos%20computacionales/Repositorio%20Complementaria/MetCompCompl-202320-MateoRubio-DanielaLancheros/Taller_4/Taller4.ipynb#X14sZmlsZQ%3D%3D?line=12'>13</a>\u001b[0m probabilidad_c(cartas)\u001b[39m#Probabilidad de que la siguiente carta también sea espada, dado que las primeras 4 cartas son espadas\u001b[39;00m\n",
      "\u001b[1;32m/home/mateo/Documents/Metodos computacionales/Repositorio Complementaria/MetCompCompl-202320-MateoRubio-DanielaLancheros/Taller_4/Taller4.ipynb Cell 13\u001b[0m line \u001b[0;36m7\n\u001b[1;32m      <a href='vscode-notebook-cell:/home/mateo/Documents/Metodos%20computacionales/Repositorio%20Complementaria/MetCompCompl-202320-MateoRubio-DanielaLancheros/Taller_4/Taller4.ipynb#X14sZmlsZQ%3D%3D?line=4'>5</a>\u001b[0m \u001b[39mfor\u001b[39;00m i \u001b[39min\u001b[39;00m \u001b[39mrange\u001b[39m(N):\n\u001b[1;32m      <a href='vscode-notebook-cell:/home/mateo/Documents/Metodos%20computacionales/Repositorio%20Complementaria/MetCompCompl-202320-MateoRubio-DanielaLancheros/Taller_4/Taller4.ipynb#X14sZmlsZQ%3D%3D?line=5'>6</a>\u001b[0m     np\u001b[39m.\u001b[39mrandom\u001b[39m.\u001b[39mshuffle(cartas)\n\u001b[0;32m----> <a href='vscode-notebook-cell:/home/mateo/Documents/Metodos%20computacionales/Repositorio%20Complementaria/MetCompCompl-202320-MateoRubio-DanielaLancheros/Taller_4/Taller4.ipynb#X14sZmlsZQ%3D%3D?line=6'>7</a>\u001b[0m     \u001b[39mif\u001b[39;00m \u001b[39mset\u001b[39;49m(cartas[\u001b[39m0\u001b[39;49m:\u001b[39m4\u001b[39;49m])\u001b[39m.\u001b[39missubset(\u001b[39mset\u001b[39m(spades)):\n\u001b[1;32m      <a href='vscode-notebook-cell:/home/mateo/Documents/Metodos%20computacionales/Repositorio%20Complementaria/MetCompCompl-202320-MateoRubio-DanielaLancheros/Taller_4/Taller4.ipynb#X14sZmlsZQ%3D%3D?line=7'>8</a>\u001b[0m         cuatro_cartas\u001b[39m+\u001b[39m\u001b[39m=\u001b[39m\u001b[39m1\u001b[39m\n\u001b[1;32m      <a href='vscode-notebook-cell:/home/mateo/Documents/Metodos%20computacionales/Repositorio%20Complementaria/MetCompCompl-202320-MateoRubio-DanielaLancheros/Taller_4/Taller4.ipynb#X14sZmlsZQ%3D%3D?line=8'>9</a>\u001b[0m         \u001b[39mif\u001b[39;00m cartas[\u001b[39m4\u001b[39m] \u001b[39min\u001b[39;00m spades:\n",
      "\u001b[0;31mKeyboardInterrupt\u001b[0m: "
     ]
    }
   ],
   "source": [
    "def probabilidad_c(cartas, N=10000000):\n",
    "    cuatro_cartas=0\n",
    "    p_3=0\n",
    "    spades=np.arange(1,14)\n",
    "    for i in range(N):\n",
    "        np.random.shuffle(cartas)\n",
    "        if set(cartas[0:4]).issubset(set(spades)):\n",
    "            cuatro_cartas+=1\n",
    "            if cartas[4] in spades:\n",
    "                p_3+=1\n",
    "    return p_3/cuatro_cartas\n",
    "\n",
    "probabilidad_c(cartas)#Probabilidad de que la siguiente carta también sea espada, dado que las primeras 4 cartas son espadas"
   ]
  },
  {
   "cell_type": "markdown",
   "metadata": {},
   "source": [
    "Hay una probabilida de $0.18$ que la siguiente carta también sea espada, dado que las primeras 4 cartas son espadas"
   ]
  },
  {
   "cell_type": "markdown",
   "metadata": {},
   "source": [
    "2."
   ]
  },
  {
   "cell_type": "markdown",
   "metadata": {},
   "source": [
    "La probabilidad de que al menos una de las dos personas se enferme es el complemento de que ninguna se enferme. Dado que, no pueden contagiarse entre sí la probabilidad de que ninguna de las dos personas se enferme es la probabilidad de que la persona inoculada no se enferme y la persona no inoculada no se enferme."
   ]
  },
  {
   "cell_type": "code",
   "execution_count": null,
   "metadata": {},
   "outputs": [
    {
     "data": {
      "text/plain": [
       "0.586994095"
      ]
     },
     "execution_count": 4,
     "metadata": {},
     "output_type": "execute_result"
    }
   ],
   "source": [
    "n=500\n",
    "poblacion_i=np.arange(1,n+1) #Población inoculada\n",
    "poblacion_ni=np.arange(1,n+1) #Población no inoculada\n",
    "\n",
    "\n",
    "def no_enfermos_suero(poblacion_in, N=100000): # Probabilidad que la población inoculada no se enferme\n",
    "    no_enfermos=0\n",
    "    n_personas_exp=int(0.6*poblacion_in.shape[0])\n",
    "    poblacion_exp=poblacion_in[:n_personas_exp]\n",
    "    poblacion_no_exp=poblacion_in[n_personas_exp:]\n",
    "    n_personas_c=int(0.20*poblacion_in.shape[0])\n",
    "    perso_pueden_enferm=np.random.choice(poblacion_exp, size=n_personas_c)\n",
    "    for i in range(N):\n",
    "        enfermo=np.random.choice(poblacion_in)\n",
    "        if enfermo not in perso_pueden_enferm or enfermo in poblacion_no_exp:\n",
    "            no_enfermos+=1\n",
    "    return no_enfermos/N\n",
    "\n",
    "def no_enfermos_no_suero(poblacion_no_in, N=100000): # Probabilidad que la población no inoculada no se enferme\n",
    "    no_enfermos=0\n",
    "    n_personas_exp=int(0.6*poblacion_no_in.shape[0])\n",
    "    poblacion_exp=poblacion_no_in[:n_personas_exp]\n",
    "    poblacion_no_exp=poblacion_no_in[n_personas_exp:]\n",
    "    n_personas_c=int(0.10*poblacion_no_in.shape[0])\n",
    "    perso_no_enferm=np.random.choice(poblacion_exp, size=n_personas_c)\n",
    "    for i in range(N):\n",
    "        enfermo=np.random.choice(poblacion_no_in)\n",
    "        if enfermo in perso_no_enferm or enfermo in poblacion_no_exp:\n",
    "            no_enfermos+=1\n",
    "    return no_enfermos/N\n",
    "\n",
    "\n",
    "p_no_enferm=no_enfermos_suero(poblacion_i)*no_enfermos_no_suero(poblacion_ni) #Probabilidad que ningúno de los dos se enferme\n",
    "p_T=1-p_no_enferm\n",
    "p_T  #Probabilidad que al menos uno de los dos se enferme"
   ]
  },
  {
   "cell_type": "markdown",
   "metadata": {},
   "source": [
    "Hay una probabilidad del $0.59$ de que al menos una de las dos personas, una inoculada y otra no, enferme."
   ]
  },
  {
   "cell_type": "markdown",
   "metadata": {},
   "source": [
    "### 2. Distribuciones de probabilidad discretas"
   ]
  },
  {
   "cell_type": "markdown",
   "metadata": {},
   "source": [
    "1."
   ]
  },
  {
   "cell_type": "code",
   "execution_count": 45,
   "metadata": {},
   "outputs": [
    {
     "data": {
      "text/plain": [
       "<matplotlib.legend.Legend at 0x7f655b175660>"
      ]
     },
     "execution_count": 45,
     "metadata": {},
     "output_type": "execute_result"
    },
    {
     "data": {
      "image/png": "[encoded data removed]",
      "text/plain": [
       "<Figure size 640x480 with 1 Axes>"
      ]
     },
     "metadata": {},
     "output_type": "display_data"
    }
   ],
   "source": [
    "import matplotlib.pyplot as plt\n",
    "\n",
    "def lotes(n,a): \n",
    "    S = 99999\n",
    "    P = np.linspace(0,1)\n",
    "    Img = []\n",
    "    for i in P:\n",
    "        pAcep = 0\n",
    "        bi = np.random.binomial(n,i,S)\n",
    "        for j in bi:\n",
    "            if j<=a:\n",
    "                pAcep+=1\n",
    "        pAcep = pAcep/np.size(bi)\n",
    "        Img.append(pAcep)\n",
    "    return P,Img\n",
    "\n",
    "P, Img  = lotes(5,1)\n",
    "P2,Img2 = lotes(25,5)\n",
    "plt.title(\"Distribución de Probabilidad\")\n",
    "plt.ylabel(\"Probabilidad de Aceptación\")\n",
    "plt.xlabel(\"Proporción de piezas defectuosas\")\n",
    "plt.plot(P,Img,label = 'n=5, a=1')\n",
    "plt.plot(P2,Img2,label = 'n=25, a=5')\n",
    "plt.axvline(x = 0.15, color = 'b')\n",
    "plt.legend()"
   ]
  },
  {
   "cell_type": "markdown",
   "metadata": {},
   "source": [
    "Antes de la vertical puesta en x = 0.15, se puede observar que el segundo plan de muestreo tiene una probabilidad de aceptación mayor. Sin embargo, después de la vertical, este plan de muestreo baja su probabliidad de aceptación exponencialmente, siendo más conveniente el primero.\n",
    "\n",
    "a) Debido a lo explicado anteriormente, el segundo plan de muestreo, donde n = 25 y a = 5, es más conveniente para una probabilidad de hasta el 10%\n",
    "\n",
    "b) De la misma manera, el primer plan de muestreo, donde n = 5 y a = 1, resulta más conveniente para una probabildad que supere el 30%   "
   ]
  },
  {
   "cell_type": "markdown",
   "metadata": {},
   "source": [
    "2."
   ]
  },
  {
   "cell_type": "markdown",
   "metadata": {},
   "source": [
    "a)"
   ]
  },
  {
   "cell_type": "code",
   "execution_count": 72,
   "metadata": {},
   "outputs": [
    {
     "name": "stdout",
     "output_type": "stream",
     "text": [
      "El menor valor de n para al menos n desconexiones con una probabilidad menor a 0.01 fue n =  5.0\n"
     ]
    }
   ],
   "source": [
    "def desconexion1(lam):\n",
    "    N = np.linspace(1,100,100)\n",
    "    S = 100000\n",
    "    for i in N:\n",
    "        prob = 0\n",
    "        P = np.random.poisson(lam,S)\n",
    "        for j in P:\n",
    "             if j>=i:\n",
    "                 prob+=1\n",
    "        prob = prob/S\n",
    "        if prob<0.01:\n",
    "            return i\n",
    "\n",
    "###Tasa de desconexión 1 cada 4 horas, por lo que lambda = 1\n",
    "print(\"El menor valor de n para al menos n desconexiones con una probabilidad menor a 0.01 fue n = \", desconexion1(1))"
   ]
  },
  {
   "cell_type": "markdown",
   "metadata": {},
   "source": [
    "b)\n"
   ]
  },
  {
   "cell_type": "code",
   "execution_count": 75,
   "metadata": {},
   "outputs": [
    {
     "name": "stdout",
     "output_type": "stream",
     "text": [
      "El menor valor de horas h con probabilidad menor a 0.02 de tener 0 desconexiones fue con  h = 16.0\n"
     ]
    }
   ],
   "source": [
    "def desconexion2():\n",
    "    '''\n",
    "    Tasa de desconexión: 1 cada 4 horas\n",
    "    Lambda = h*1/4\n",
    "    '''\n",
    "    N = np.linspace(1,100,100)\n",
    "    S = 100000\n",
    "    for i in N:\n",
    "        prob = 0 \n",
    "        P = np.random.poisson(i*0.25,S)\n",
    "        for j in P:\n",
    "            if j ==0:\n",
    "                prob +=1 \n",
    "        prob = prob/S\n",
    "        if prob < 0.02:\n",
    "            return i\n",
    "\n",
    "print(\"El menor valor de horas h con probabilidad menor a 0.02 de tener 0 desconexiones fue con  h =\", desconexion2())"
   ]
  },
  {
   "cell_type": "markdown",
   "metadata": {},
   "source": [
    "c)"
   ]
  },
  {
   "cell_type": "code",
   "execution_count": 83,
   "metadata": {},
   "outputs": [
    {
     "name": "stdout",
     "output_type": "stream",
     "text": [
      "La probabilidad de que exclusivamente uno de los 3 periodos tenga 0 desconexiones es:  0.49046\n"
     ]
    }
   ],
   "source": [
    "def desconexion3():\n",
    "    prob = 0 \n",
    "    S =10000\n",
    "    for i in range(S):\n",
    "        a1 = np.random.poisson(1,1) == 0\n",
    "        a2 = np.random.poisson(1,1) == 0\n",
    "        a3 = np.random.poisson(1,1) == 0 \n",
    "        if a1^a2^a3:\n",
    "            prob+=1\n",
    "    return prob/S\n",
    "\n",
    "print(\"La probabilidad de que exclusivamente uno de los 3 periodos tenga 0 desconexiones es: \", desconexion3())"
   ]
  },
  {
   "cell_type": "markdown",
   "metadata": {},
   "source": [
    "d)"
   ]
  },
  {
   "cell_type": "code",
   "execution_count": 91,
   "metadata": {},
   "outputs": [
    {
     "name": "stdout",
     "output_type": "stream",
     "text": [
      "La probabilidad de tener 3 desconexiones en 3 periodos consecutivos de 4 horas es de:  0.2283\n"
     ]
    }
   ],
   "source": [
    "def desconexion4():\n",
    "    ### Si hay una desconexión cada 4 horas, en 3 periodos consecutivos se esperarían 3 desconexiones\n",
    "    prob = 0\n",
    "    S = 10000\n",
    "    for i in range(S):\n",
    "        a1 = np.random.poisson(1,1)\n",
    "        a2 = np.random.poisson(1,1)\n",
    "        a3 = np.random.poisson(1,1)\n",
    "        if a1+a2+a3 == 3:\n",
    "            prob+=1\n",
    "    return prob/S\n",
    "\n",
    "print(\"La probabilidad de tener 3 desconexiones en 3 periodos consecutivos de 4 horas es de: \", desconexion4())"
   ]
  },
  {
   "cell_type": "markdown",
   "metadata": {},
   "source": [
    "### 3. Distribuciones de probabilidad continuas"
   ]
  },
  {
   "cell_type": "markdown",
   "metadata": {},
   "source": [
    "1. "
   ]
  },
  {
   "cell_type": "code",
   "execution_count": null,
   "metadata": {
    "scrolled": true
   },
   "outputs": [
    {
     "data": {
      "text/latex": [
       "$\\displaystyle \\begin{cases} \\frac{x^{2}}{3} & \\text{for}\\: x \\geq -1 \\wedge x \\leq 2 \\\\0 & \\text{otherwise} \\end{cases}$"
      ],
      "text/plain": [
       "Piecewise((x**2/3, (x >= -1) & (x <= 2)), (0, True))"
      ]
     },
     "execution_count": 5,
     "metadata": {},
     "output_type": "execute_result"
    }
   ],
   "source": [
    "x=sym.Symbol('x', real=True)\n",
    "f = sym.Piecewise((x**2/3, (x >= -1) & (x <= 2)), (0, True))\n",
    "f"
   ]
  },
  {
   "cell_type": "markdown",
   "metadata": {},
   "source": [
    "a)"
   ]
  },
  {
   "cell_type": "code",
   "execution_count": null,
   "metadata": {},
   "outputs": [
    {
     "data": {
      "text/latex": [
       "$\\displaystyle \\frac{1}{9}$"
      ],
      "text/plain": [
       "1/9"
      ]
     },
     "execution_count": 6,
     "metadata": {},
     "output_type": "execute_result"
    }
   ],
   "source": [
    "sym.integrate(f,(x,0,1)) #P(0 < X ≤ 1)"
   ]
  },
  {
   "cell_type": "markdown",
   "metadata": {},
   "source": [
    "b)"
   ]
  },
  {
   "cell_type": "code",
   "execution_count": null,
   "metadata": {},
   "outputs": [
    {
     "data": {
      "text/latex": [
       "$\\displaystyle \\frac{7}{9}$"
      ],
      "text/plain": [
       "7/9"
      ]
     },
     "execution_count": 14,
     "metadata": {},
     "output_type": "execute_result"
    }
   ],
   "source": [
    "sym.integrate(f,(x,1,2)) #P(1 < X ≤ 2)"
   ]
  },
  {
   "cell_type": "markdown",
   "metadata": {},
   "source": [
    "2."
   ]
  },
  {
   "cell_type": "code",
   "execution_count": null,
   "metadata": {},
   "outputs": [],
   "source": [
    "N=10000\n",
    "calificaciones=np.random.normal(78,6,N)"
   ]
  },
  {
   "cell_type": "markdown",
   "metadata": {},
   "source": [
    "a) "
   ]
  },
  {
   "cell_type": "code",
   "execution_count": null,
   "metadata": {},
   "outputs": [
    {
     "data": {
      "text/plain": [
       "0.8463"
      ]
     },
     "execution_count": 18,
     "metadata": {},
     "output_type": "execute_result"
    }
   ],
   "source": [
    "def probabilidad_mayor_a(calificaciones, a):\n",
    "    cumple=0\n",
    "    for i in range(N):\n",
    "        if calificaciones[i]>=a:\n",
    "            cumple+=1\n",
    "\n",
    "    return cumple/N\n",
    "\n",
    "proporcion=probabilidad_mayor_a(calificaciones,72)\n",
    "proporcion  #Probabilidad de calificaciones mayores a 72"
   ]
  },
  {
   "cell_type": "markdown",
   "metadata": {},
   "source": [
    "Hay una probabilidad de $0.84$ que una persona que haga el examen alcance calificaciones mayores a 72 "
   ]
  },
  {
   "cell_type": "markdown",
   "metadata": {},
   "source": [
    "b) "
   ]
  },
  {
   "cell_type": "code",
   "execution_count": null,
   "metadata": {},
   "outputs": [
    {
     "data": {
      "text/plain": [
       "85.54488150933989"
      ]
     },
     "execution_count": 20,
     "metadata": {},
     "output_type": "execute_result"
    }
   ],
   "source": [
    "def diez_mas_alto(calificaciones):\n",
    "    probabilidad=0.5\n",
    "    calificaciones=np.sort(calificaciones)\n",
    "    i=int(calificaciones.shape[0]/2)\n",
    "    while probabilidad>=0.10:\n",
    "        probabilidad=probabilidad_mayor_a(calificaciones,calificaciones[i])\n",
    "        minima_nota=calificaciones[i]\n",
    "        i+=1\n",
    "    return minima_nota\n",
    "\n",
    "diez_mas_alto(calificaciones)# calificación mínima para recibir un A"
   ]
  },
  {
   "cell_type": "markdown",
   "metadata": {},
   "source": [
    "La calificación mínima para obtener un A es $85$ "
   ]
  },
  {
   "cell_type": "markdown",
   "metadata": {},
   "source": [
    "c) "
   ]
  },
  {
   "cell_type": "code",
   "execution_count": null,
   "metadata": {},
   "outputs": [
    {
     "data": {
      "text/plain": [
       "81.48639102405949"
      ]
     },
     "execution_count": 21,
     "metadata": {},
     "output_type": "execute_result"
    }
   ],
   "source": [
    "def veintiocho_mas_alto(calificaciones):\n",
    "    probabilidad=0.5\n",
    "    calificaciones=np.sort(calificaciones)\n",
    "    i=int(calificaciones.shape[0]/2)\n",
    "    while probabilidad>=0.281:\n",
    "        probabilidad=probabilidad_mayor_a(calificaciones,calificaciones[i])\n",
    "        limite=calificaciones[i]\n",
    "        i+=1\n",
    "    return limite\n",
    "\n",
    "veintiocho_mas_alto(calificaciones) #Punto límite para pasar el examen"
   ]
  },
  {
   "cell_type": "markdown",
   "metadata": {},
   "source": [
    "El punto límite para pasar el examen, si el examinador desea pasar a solo $28.1$% es $81.5$"
   ]
  },
  {
   "cell_type": "markdown",
   "metadata": {},
   "source": [
    "d) "
   ]
  },
  {
   "cell_type": "code",
   "execution_count": null,
   "metadata": {},
   "outputs": [
    {
     "data": {
      "text/plain": [
       "0.4375"
      ]
     },
     "execution_count": 22,
     "metadata": {},
     "output_type": "execute_result"
    }
   ],
   "source": [
    "def corte_mayor_25(calificaciones):\n",
    "    probabilidad=0.5\n",
    "    calificaciones=np.sort(calificaciones)\n",
    "    i=int(calificaciones.shape[0]/2)\n",
    "    limite=0\n",
    "    while probabilidad<=0.75:\n",
    "        probabilidad=probabilidad_mayor_a(calificaciones,calificaciones[i])\n",
    "        limite=calificaciones[i]\n",
    "        i-=1\n",
    "    return limite\n",
    "\n",
    "def porcentaje_mas_bajo(calificaciones):\n",
    "    corte_25_mas_bajo=corte_mayor_25(calificaciones)\n",
    "    proporcion=0\n",
    "    limite=corte_25_mas_bajo+5\n",
    "    for i in range(N):\n",
    "        if calificaciones[i]>=limite:\n",
    "            proporcion+=1\n",
    "    return proporcion/N\n",
    "\n",
    "porcentaje_mas_bajo(calificaciones)#Porporción de estudiantes con calificaciones 5 puntos más arriba "
   ]
  },
  {
   "cell_type": "markdown",
   "metadata": {},
   "source": [
    "Una proporción de $0.44$ estudiantes tienen calificaciones de 5 o más puntos arriba de la calificación que corta al $25$ % más bajo"
   ]
  },
  {
   "cell_type": "markdown",
   "metadata": {},
   "source": [
    "e) "
   ]
  },
  {
   "cell_type": "code",
   "execution_count": null,
   "metadata": {},
   "outputs": [
    {
     "data": {
      "text/plain": [
       "0.18397731300957107"
      ]
     },
     "execution_count": 24,
     "metadata": {},
     "output_type": "execute_result"
    }
   ],
   "source": [
    "def probabilidad_mayor_84(califcaciones):\n",
    "    count=0\n",
    "    s=0\n",
    "    for i in califcaciones:\n",
    "        if i>=72:\n",
    "            s+=1\n",
    "            if i>=84:\n",
    "                count+=1\n",
    "    return count/s\n",
    "\n",
    "probabilidad_mayor_84(calificaciones) "
   ]
  },
  {
   "cell_type": "markdown",
   "metadata": {},
   "source": [
    "La probabilidad de que la calificación de un estudiante exceda de 84 dado que excede de 72 es de $18$%"
   ]
  },
  {
   "cell_type": "code",
   "execution_count": null,
   "metadata": {},
   "outputs": [],
   "source": []
  }
 ],
 "metadata": {
  "kernelspec": {
   "display_name": "Python 3",
   "language": "python",
   "name": "python3"
  },
  "language_info": {
   "codemirror_mode": {
    "name": "ipython",
    "version": 3
   },
   "file_extension": ".py",
   "mimetype": "text/x-python",
   "name": "python",
   "nbconvert_exporter": "python",
   "pygments_lexer": "ipython3",
   "version": "3.10.12"
  }
 },
 "nbformat": 4,
 "nbformat_minor": 2
}
