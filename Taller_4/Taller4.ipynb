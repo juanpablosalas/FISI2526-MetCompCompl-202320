{
 "cells": [
  {
   "cell_type": "markdown",
   "metadata": {},
   "source": [
    "## Taller 4: Probabilidad"
   ]
  },
  {
   "cell_type": "code",
   "execution_count": 3,
   "metadata": {},
   "outputs": [],
   "source": [
    "import numpy as np\n",
    "import sympy as sym"
   ]
  },
  {
   "cell_type": "markdown",
   "metadata": {},
   "source": [
    "### 1. Calculo de probabilidad"
   ]
  },
  {
   "cell_type": "code",
   "execution_count": 4,
   "metadata": {},
   "outputs": [],
   "source": [
    "cartas=np.arange(1,53)"
   ]
  },
  {
   "cell_type": "markdown",
   "metadata": {},
   "source": [
    "a) "
   ]
  },
  {
   "cell_type": "code",
   "execution_count": 8,
   "metadata": {},
   "outputs": [
    {
     "data": {
      "text/plain": [
       "0.00832958893291396"
      ]
     },
     "execution_count": 8,
     "metadata": {},
     "output_type": "execute_result"
    }
   ],
   "source": [
    "def probabilidad_a(cartas,N=10000000):\n",
    "    spades=np.arange(1,14)\n",
    "    p_1=0\n",
    "    dos_cartas=0\n",
    "    for i in range(N):\n",
    "        np.random.shuffle(cartas)\n",
    "        if set(cartas[0:2]).issubset(set(spades)):\n",
    "            dos_cartas+=1\n",
    "            if set(cartas[2:5]).issubset(set(spades)):\n",
    "                p_1+=1\n",
    "    return p_1/dos_cartas\n",
    "\n",
    "probabilidad_a(cartas)#Probabilidad de que las siguientes 3 cartas también sean espadas, dado que las 2 primeras cartas son espadas"
   ]
  },
  {
   "cell_type": "markdown",
   "metadata": {},
   "source": [
    "Hay una probabilidad de $0.08$ de que las siguientes 3 cartas también sean espadas, dado que las 2 primeras cartas son espadas"
   ]
  },
  {
   "cell_type": "markdown",
   "metadata": {},
   "source": [
    "b)"
   ]
  },
  {
   "cell_type": "code",
   "execution_count": 9,
   "metadata": {},
   "outputs": [
    {
     "data": {
      "text/plain": [
       "0.038616095578120894"
      ]
     },
     "execution_count": 9,
     "metadata": {},
     "output_type": "execute_result"
    }
   ],
   "source": [
    "def probabilidad_b(cartas, N=10000000):\n",
    "    tres_cartas=0\n",
    "    p_2=0\n",
    "    spades=np.arange(1,14)\n",
    "    for i in range(N):\n",
    "        np.random.shuffle(cartas)\n",
    "        if set(cartas[0:3]).issubset(set(spades)):\n",
    "            tres_cartas+=1\n",
    "            if set(cartas[3:5]).issubset(set(spades)):\n",
    "                p_2+=1\n",
    "    return p_2/tres_cartas\n",
    "\n",
    "probabilidad_b(cartas)#Probabilidad de que las siguientes 2 cartas también sean espadas, dado que las 3 primeras cartas son espadas"
   ]
  },
  {
   "cell_type": "markdown",
   "metadata": {},
   "source": [
    "Hay una probabilidad de $0.038$ de que las siguientes 2 cartas también sean espadas, dado que las 3 primeras cartas son espadas"
   ]
  },
  {
   "cell_type": "markdown",
   "metadata": {},
   "source": [
    "c) "
   ]
  },
  {
   "cell_type": "code",
   "execution_count": 11,
   "metadata": {},
   "outputs": [
    {
     "data": {
      "text/plain": [
       "0.18518658122879758"
      ]
     },
     "execution_count": 11,
     "metadata": {},
     "output_type": "execute_result"
    }
   ],
   "source": [
    "def probabilidad_c(cartas, N=10000000):\n",
    "    cuatro_cartas=0\n",
    "    p_3=0\n",
    "    spades=np.arange(1,14)\n",
    "    for i in range(N):\n",
    "        np.random.shuffle(cartas)\n",
    "        if set(cartas[0:4]).issubset(set(spades)):\n",
    "            cuatro_cartas+=1\n",
    "            if cartas[4] in spades:x\n",
    "                p_3+=1\n",
    "    return p_3/cuatro_cartas\n",
    "\n",
    "probabilidad_c(cartas)#Probabilidad de que la siguiente carta también sea espada, dado que las primeras 4 cartas son espadas"
   ]
  },
  {
   "cell_type": "markdown",
   "metadata": {},
   "source": [
    "Hay una probabilida de $0.18$ que la siguiente carta también sea espada, dado que las primeras 4 cartas son espadas"
   ]
  },
  {
   "cell_type": "markdown",
   "metadata": {},
   "source": [
    "PUNTO 2"
   ]
  },
  {
   "cell_type": "markdown",
   "metadata": {},
   "source": [
    "La probabilidad de que al menos una de las dos personas se enferme es el complemento de que ninguna se enferme. Dado que, no pueden contagiarse entre sí la probabilidad de que ninguna de las dos personas se enferme es la probabilidad de que la persona inoculada no se enferme y la persona no inoculada no se enferme."
   ]
  },
  {
   "cell_type": "code",
   "execution_count": 4,
   "metadata": {},
   "outputs": [
    {
     "data": {
      "text/plain": [
       "0.586994095"
      ]
     },
     "execution_count": 4,
     "metadata": {},
     "output_type": "execute_result"
    }
   ],
   "source": [
    "n=500\n",
    "poblacion_i=np.arange(1,n+1) #Población inoculada\n",
    "poblacion_ni=np.arange(1,n+1) #Población no inoculada\n",
    "\n",
    "\n",
    "def no_enfermos_suero(poblacion_in, N=100000): # Probabilidad que la población inoculada no se enferme\n",
    "    no_enfermos=0\n",
    "    n_personas_exp=int(0.6*poblacion_in.shape[0])\n",
    "    poblacion_exp=poblacion_in[:n_personas_exp]\n",
    "    poblacion_no_exp=poblacion_in[n_personas_exp:]\n",
    "    n_personas_c=int(0.20*poblacion_in.shape[0])\n",
    "    perso_pueden_enferm=np.random.choice(poblacion_exp, size=n_personas_c)\n",
    "    for i in range(N):\n",
    "        enfermo=np.random.choice(poblacion_in)\n",
    "        if enfermo not in perso_pueden_enferm or enfermo in poblacion_no_exp:\n",
    "            no_enfermos+=1\n",
    "    return no_enfermos/N\n",
    "\n",
    "def no_enfermos_no_suero(poblacion_no_in, N=100000): # Probabilidad que la población no inoculada no se enferme\n",
    "    no_enfermos=0\n",
    "    n_personas_exp=int(0.6*poblacion_no_in.shape[0])\n",
    "    poblacion_exp=poblacion_no_in[:n_personas_exp]\n",
    "    poblacion_no_exp=poblacion_no_in[n_personas_exp:]\n",
    "    n_personas_c=int(0.10*poblacion_no_in.shape[0])\n",
    "    perso_no_enferm=np.random.choice(poblacion_exp, size=n_personas_c)\n",
    "    for i in range(N):\n",
    "        enfermo=np.random.choice(poblacion_no_in)\n",
    "        if enfermo in perso_no_enferm or enfermo in poblacion_no_exp:\n",
    "            no_enfermos+=1\n",
    "    return no_enfermos/N\n",
    "\n",
    "\n",
    "p_no_enferm=no_enfermos_suero(poblacion_i)*no_enfermos_no_suero(poblacion_ni) #Probabilidad que ningúno de los dos se enferme\n",
    "p_T=1-p_no_enferm\n",
    "p_T  #Probabilidad que al menos uno de los dos se enferme"
   ]
  },
  {
   "cell_type": "markdown",
   "metadata": {},
   "source": [
    "Hay una probabilidad del $0.59$ de que al menos una de las dos personas, una inoculada y otra no, enferme."
   ]
  },
  {
   "cell_type": "markdown",
   "metadata": {},
   "source": [
    "### 2. Distribuciones de probabilidad discretas"
   ]
  },
  {
   "cell_type": "markdown",
   "metadata": {},
   "source": [
    "### 3. Distribuciones de probabilidad continuas"
   ]
  },
  {
   "cell_type": "markdown",
   "metadata": {},
   "source": [
    "1. "
   ]
  },
  {
   "cell_type": "code",
   "execution_count": 5,
   "metadata": {
    "scrolled": true
   },
   "outputs": [
    {
     "data": {
      "text/latex": [
       "$\\displaystyle \\begin{cases} \\frac{x^{2}}{3} & \\text{for}\\: x \\geq -1 \\wedge x \\leq 2 \\\\0 & \\text{otherwise} \\end{cases}$"
      ],
      "text/plain": [
       "Piecewise((x**2/3, (x >= -1) & (x <= 2)), (0, True))"
      ]
     },
     "execution_count": 5,
     "metadata": {},
     "output_type": "execute_result"
    }
   ],
   "source": [
    "x=sym.Symbol('x', real=True)\n",
    "f = sym.Piecewise((x**2/3, (x >= -1) & (x <= 2)), (0, True))\n",
    "f"
   ]
  },
  {
   "cell_type": "markdown",
   "metadata": {},
   "source": [
    "a)"
   ]
  },
  {
   "cell_type": "code",
   "execution_count": 6,
   "metadata": {},
   "outputs": [
    {
     "data": {
      "text/latex": [
       "$\\displaystyle \\frac{1}{9}$"
      ],
      "text/plain": [
       "1/9"
      ]
     },
     "execution_count": 6,
     "metadata": {},
     "output_type": "execute_result"
    }
   ],
   "source": [
    "sym.integrate(f,(x,0,1)) #P(0 < X ≤ 1)"
   ]
  },
  {
   "cell_type": "markdown",
   "metadata": {},
   "source": [
    "b)"
   ]
  },
  {
   "cell_type": "code",
   "execution_count": 14,
   "metadata": {},
   "outputs": [
    {
     "data": {
      "text/latex": [
       "$\\displaystyle \\frac{7}{9}$"
      ],
      "text/plain": [
       "7/9"
      ]
     },
     "execution_count": 14,
     "metadata": {},
     "output_type": "execute_result"
    }
   ],
   "source": [
    "sym.integrate(f,(x,1,2)) #P(1 < X ≤ 2)"
   ]
  },
  {
   "cell_type": "markdown",
   "metadata": {},
   "source": [
    "2."
   ]
  },
  {
   "cell_type": "code",
   "execution_count": 16,
   "metadata": {},
   "outputs": [],
   "source": [
    "N=10000\n",
    "calificaciones=np.random.normal(78,6,N)"
   ]
  },
  {
   "cell_type": "markdown",
   "metadata": {},
   "source": [
    "a) "
   ]
  },
  {
   "cell_type": "code",
   "execution_count": 18,
   "metadata": {},
   "outputs": [
    {
     "data": {
      "text/plain": [
       "0.8463"
      ]
     },
     "execution_count": 18,
     "metadata": {},
     "output_type": "execute_result"
    }
   ],
   "source": [
    "def probabilidad_mayor_a(calificaciones, a):\n",
    "    cumple=0\n",
    "    for i in range(N):\n",
    "        if calificaciones[i]>=a:\n",
    "            cumple+=1\n",
    "\n",
    "    return cumple/N\n",
    "\n",
    "proporcion=probabilidad_mayor_a(calificaciones,72)\n",
    "proporcion  #Probabilidad de calificaciones mayores a 72"
   ]
  },
  {
   "cell_type": "markdown",
   "metadata": {},
   "source": [
    "Hay una probabilidad de $0.84$ que una persona que haga el examen alcance calificaciones mayores a 72 "
   ]
  },
  {
   "cell_type": "markdown",
   "metadata": {},
   "source": [
    "b) "
   ]
  },
  {
   "cell_type": "code",
   "execution_count": 20,
   "metadata": {},
   "outputs": [
    {
     "data": {
      "text/plain": [
       "85.54488150933989"
      ]
     },
     "execution_count": 20,
     "metadata": {},
     "output_type": "execute_result"
    }
   ],
   "source": [
    "def diez_mas_alto(calificaciones):\n",
    "    probabilidad=0.5\n",
    "    calificaciones=np.sort(calificaciones)\n",
    "    i=int(calificaciones.shape[0]/2)\n",
    "    while probabilidad>=0.10:\n",
    "        probabilidad=probabilidad_mayor_a(calificaciones,calificaciones[i])\n",
    "        minima_nota=calificaciones[i]\n",
    "        i+=1\n",
    "    return minima_nota\n",
    "\n",
    "diez_mas_alto(calificaciones)# calificación mínima para recibir un A"
   ]
  },
  {
   "cell_type": "markdown",
   "metadata": {},
   "source": [
    "La calificación mínima para obtener un A es $85$ "
   ]
  },
  {
   "cell_type": "markdown",
   "metadata": {},
   "source": [
    "c) "
   ]
  },
  {
   "cell_type": "code",
   "execution_count": 21,
   "metadata": {},
   "outputs": [
    {
     "data": {
      "text/plain": [
       "81.48639102405949"
      ]
     },
     "execution_count": 21,
     "metadata": {},
     "output_type": "execute_result"
    }
   ],
   "source": [
    "def veintiocho_mas_alto(calificaciones):\n",
    "    probabilidad=0.5\n",
    "    calificaciones=np.sort(calificaciones)\n",
    "    i=int(calificaciones.shape[0]/2)\n",
    "    while probabilidad>=0.281:\n",
    "        probabilidad=probabilidad_mayor_a(calificaciones,calificaciones[i])\n",
    "        limite=calificaciones[i]\n",
    "        i+=1\n",
    "    return limite\n",
    "\n",
    "veintiocho_mas_alto(calificaciones) #Punto límite para pasar el examen"
   ]
  },
  {
   "cell_type": "markdown",
   "metadata": {},
   "source": [
    "El punto límite para pasar el examen, si el examinador desea pasar a solo $28.1$% es $81.5$"
   ]
  },
  {
   "cell_type": "markdown",
   "metadata": {},
   "source": [
    "d) "
   ]
  },
  {
   "cell_type": "code",
   "execution_count": 22,
   "metadata": {},
   "outputs": [
    {
     "data": {
      "text/plain": [
       "0.4375"
      ]
     },
     "execution_count": 22,
     "metadata": {},
     "output_type": "execute_result"
    }
   ],
   "source": [
    "def corte_mayor_25(calificaciones):\n",
    "    probabilidad=0.5\n",
    "    calificaciones=np.sort(calificaciones)\n",
    "    i=int(calificaciones.shape[0]/2)\n",
    "    limite=0\n",
    "    while probabilidad<=0.75:\n",
    "        probabilidad=probabilidad_mayor_a(calificaciones,calificaciones[i])\n",
    "        limite=calificaciones[i]\n",
    "        i-=1\n",
    "    return limite\n",
    "\n",
    "def porcentaje_mas_bajo(calificaciones):\n",
    "    corte_25_mas_bajo=corte_mayor_25(calificaciones)\n",
    "    proporcion=0\n",
    "    limite=corte_25_mas_bajo+5\n",
    "    for i in range(N):\n",
    "        if calificaciones[i]>=limite:\n",
    "            proporcion+=1\n",
    "    return proporcion/N\n",
    "\n",
    "porcentaje_mas_bajo(calificaciones)#Porporción de estudiantes con calificaciones 5 puntos más arriba "
   ]
  },
  {
   "cell_type": "markdown",
   "metadata": {},
   "source": [
    "Una proporción de $0.44$ estudiantes tienen calificaciones de 5 o más puntos arriba de la calificación que corta al $25$ % más bajo"
   ]
  },
  {
   "cell_type": "markdown",
   "metadata": {},
   "source": [
    "e) "
   ]
  },
  {
   "cell_type": "code",
   "execution_count": 24,
   "metadata": {},
   "outputs": [
    {
     "data": {
      "text/plain": [
       "0.18397731300957107"
      ]
     },
     "execution_count": 24,
     "metadata": {},
     "output_type": "execute_result"
    }
   ],
   "source": [
    "def probabilidad_mayor_84(califcaciones):\n",
    "    count=0\n",
    "    s=0\n",
    "    for i in califcaciones:\n",
    "        if i>=72:\n",
    "            s+=1\n",
    "            if i>=84:\n",
    "                count+=1\n",
    "    return count/s\n",
    "\n",
    "probabilidad_mayor_84(calificaciones) "
   ]
  },
  {
   "cell_type": "markdown",
   "metadata": {},
   "source": [
    "La probabilidad de que la calificación de un estudiante exceda de 84 dado que excede de 72 es de $18$%"
   ]
  },
  {
   "cell_type": "code",
   "execution_count": null,
   "metadata": {},
   "outputs": [],
   "source": []
  }
 ],
 "metadata": {
  "kernelspec": {
   "display_name": "Python 3",
   "language": "python",
   "name": "python3"
  },
  "language_info": {
   "codemirror_mode": {
    "name": "ipython",
    "version": 3
   },
   "file_extension": ".py",
   "mimetype": "text/x-python",
   "name": "python",
   "nbconvert_exporter": "python",
   "pygments_lexer": "ipython3",
   "version": "3.8.3"
  }
 },
 "nbformat": 4,
 "nbformat_minor": 2
}
